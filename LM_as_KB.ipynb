{
  "nbformat": 4,
  "nbformat_minor": 0,
  "metadata": {
    "colab": {
      "provenance": []
    },
    "kernelspec": {
      "name": "python3",
      "display_name": "Python 3"
    },
    "language_info": {
      "name": "python"
    },
    "widgets": {
      "application/vnd.jupyter.widget-state+json": {
        "d3daeaaa77e24cebb4ba1d58ad4176ab": {
          "model_module": "@jupyter-widgets/controls",
          "model_name": "HBoxModel",
          "model_module_version": "1.5.0",
          "state": {
            "_dom_classes": [],
            "_model_module": "@jupyter-widgets/controls",
            "_model_module_version": "1.5.0",
            "_model_name": "HBoxModel",
            "_view_count": null,
            "_view_module": "@jupyter-widgets/controls",
            "_view_module_version": "1.5.0",
            "_view_name": "HBoxView",
            "box_style": "",
            "children": [
              "IPY_MODEL_89bb0fd39cbb4223b07161e39e5e91f4",
              "IPY_MODEL_6993ea229eaf41959e6b765a3ce88d22",
              "IPY_MODEL_8c1e0c8df80b47859a28247f77f529b7"
            ],
            "layout": "IPY_MODEL_3fdd5eb1309b4c0cbccaec22e314b993"
          }
        },
        "89bb0fd39cbb4223b07161e39e5e91f4": {
          "model_module": "@jupyter-widgets/controls",
          "model_name": "HTMLModel",
          "model_module_version": "1.5.0",
          "state": {
            "_dom_classes": [],
            "_model_module": "@jupyter-widgets/controls",
            "_model_module_version": "1.5.0",
            "_model_name": "HTMLModel",
            "_view_count": null,
            "_view_module": "@jupyter-widgets/controls",
            "_view_module_version": "1.5.0",
            "_view_name": "HTMLView",
            "description": "",
            "description_tooltip": null,
            "layout": "IPY_MODEL_bcc087d19560455abacda3153657bd10",
            "placeholder": "​",
            "style": "IPY_MODEL_6ff139ddbea543a6bfa32345ca200205",
            "value": "Downloading (…)okenizer_config.json: 100%"
          }
        },
        "6993ea229eaf41959e6b765a3ce88d22": {
          "model_module": "@jupyter-widgets/controls",
          "model_name": "FloatProgressModel",
          "model_module_version": "1.5.0",
          "state": {
            "_dom_classes": [],
            "_model_module": "@jupyter-widgets/controls",
            "_model_module_version": "1.5.0",
            "_model_name": "FloatProgressModel",
            "_view_count": null,
            "_view_module": "@jupyter-widgets/controls",
            "_view_module_version": "1.5.0",
            "_view_name": "ProgressView",
            "bar_style": "success",
            "description": "",
            "description_tooltip": null,
            "layout": "IPY_MODEL_957d0cf6adda46d191f8b0b8316fcd7f",
            "max": 28,
            "min": 0,
            "orientation": "horizontal",
            "style": "IPY_MODEL_fcfd72eee97749aba598f9e70eef41ab",
            "value": 28
          }
        },
        "8c1e0c8df80b47859a28247f77f529b7": {
          "model_module": "@jupyter-widgets/controls",
          "model_name": "HTMLModel",
          "model_module_version": "1.5.0",
          "state": {
            "_dom_classes": [],
            "_model_module": "@jupyter-widgets/controls",
            "_model_module_version": "1.5.0",
            "_model_name": "HTMLModel",
            "_view_count": null,
            "_view_module": "@jupyter-widgets/controls",
            "_view_module_version": "1.5.0",
            "_view_name": "HTMLView",
            "description": "",
            "description_tooltip": null,
            "layout": "IPY_MODEL_2048fb708b7a4b5397480f8a150b4a93",
            "placeholder": "​",
            "style": "IPY_MODEL_c3071b81fb0e44a192ba56193afabfee",
            "value": " 28.0/28.0 [00:00&lt;00:00, 670B/s]"
          }
        },
        "3fdd5eb1309b4c0cbccaec22e314b993": {
          "model_module": "@jupyter-widgets/base",
          "model_name": "LayoutModel",
          "model_module_version": "1.2.0",
          "state": {
            "_model_module": "@jupyter-widgets/base",
            "_model_module_version": "1.2.0",
            "_model_name": "LayoutModel",
            "_view_count": null,
            "_view_module": "@jupyter-widgets/base",
            "_view_module_version": "1.2.0",
            "_view_name": "LayoutView",
            "align_content": null,
            "align_items": null,
            "align_self": null,
            "border": null,
            "bottom": null,
            "display": null,
            "flex": null,
            "flex_flow": null,
            "grid_area": null,
            "grid_auto_columns": null,
            "grid_auto_flow": null,
            "grid_auto_rows": null,
            "grid_column": null,
            "grid_gap": null,
            "grid_row": null,
            "grid_template_areas": null,
            "grid_template_columns": null,
            "grid_template_rows": null,
            "height": null,
            "justify_content": null,
            "justify_items": null,
            "left": null,
            "margin": null,
            "max_height": null,
            "max_width": null,
            "min_height": null,
            "min_width": null,
            "object_fit": null,
            "object_position": null,
            "order": null,
            "overflow": null,
            "overflow_x": null,
            "overflow_y": null,
            "padding": null,
            "right": null,
            "top": null,
            "visibility": null,
            "width": null
          }
        },
        "bcc087d19560455abacda3153657bd10": {
          "model_module": "@jupyter-widgets/base",
          "model_name": "LayoutModel",
          "model_module_version": "1.2.0",
          "state": {
            "_model_module": "@jupyter-widgets/base",
            "_model_module_version": "1.2.0",
            "_model_name": "LayoutModel",
            "_view_count": null,
            "_view_module": "@jupyter-widgets/base",
            "_view_module_version": "1.2.0",
            "_view_name": "LayoutView",
            "align_content": null,
            "align_items": null,
            "align_self": null,
            "border": null,
            "bottom": null,
            "display": null,
            "flex": null,
            "flex_flow": null,
            "grid_area": null,
            "grid_auto_columns": null,
            "grid_auto_flow": null,
            "grid_auto_rows": null,
            "grid_column": null,
            "grid_gap": null,
            "grid_row": null,
            "grid_template_areas": null,
            "grid_template_columns": null,
            "grid_template_rows": null,
            "height": null,
            "justify_content": null,
            "justify_items": null,
            "left": null,
            "margin": null,
            "max_height": null,
            "max_width": null,
            "min_height": null,
            "min_width": null,
            "object_fit": null,
            "object_position": null,
            "order": null,
            "overflow": null,
            "overflow_x": null,
            "overflow_y": null,
            "padding": null,
            "right": null,
            "top": null,
            "visibility": null,
            "width": null
          }
        },
        "6ff139ddbea543a6bfa32345ca200205": {
          "model_module": "@jupyter-widgets/controls",
          "model_name": "DescriptionStyleModel",
          "model_module_version": "1.5.0",
          "state": {
            "_model_module": "@jupyter-widgets/controls",
            "_model_module_version": "1.5.0",
            "_model_name": "DescriptionStyleModel",
            "_view_count": null,
            "_view_module": "@jupyter-widgets/base",
            "_view_module_version": "1.2.0",
            "_view_name": "StyleView",
            "description_width": ""
          }
        },
        "957d0cf6adda46d191f8b0b8316fcd7f": {
          "model_module": "@jupyter-widgets/base",
          "model_name": "LayoutModel",
          "model_module_version": "1.2.0",
          "state": {
            "_model_module": "@jupyter-widgets/base",
            "_model_module_version": "1.2.0",
            "_model_name": "LayoutModel",
            "_view_count": null,
            "_view_module": "@jupyter-widgets/base",
            "_view_module_version": "1.2.0",
            "_view_name": "LayoutView",
            "align_content": null,
            "align_items": null,
            "align_self": null,
            "border": null,
            "bottom": null,
            "display": null,
            "flex": null,
            "flex_flow": null,
            "grid_area": null,
            "grid_auto_columns": null,
            "grid_auto_flow": null,
            "grid_auto_rows": null,
            "grid_column": null,
            "grid_gap": null,
            "grid_row": null,
            "grid_template_areas": null,
            "grid_template_columns": null,
            "grid_template_rows": null,
            "height": null,
            "justify_content": null,
            "justify_items": null,
            "left": null,
            "margin": null,
            "max_height": null,
            "max_width": null,
            "min_height": null,
            "min_width": null,
            "object_fit": null,
            "object_position": null,
            "order": null,
            "overflow": null,
            "overflow_x": null,
            "overflow_y": null,
            "padding": null,
            "right": null,
            "top": null,
            "visibility": null,
            "width": null
          }
        },
        "fcfd72eee97749aba598f9e70eef41ab": {
          "model_module": "@jupyter-widgets/controls",
          "model_name": "ProgressStyleModel",
          "model_module_version": "1.5.0",
          "state": {
            "_model_module": "@jupyter-widgets/controls",
            "_model_module_version": "1.5.0",
            "_model_name": "ProgressStyleModel",
            "_view_count": null,
            "_view_module": "@jupyter-widgets/base",
            "_view_module_version": "1.2.0",
            "_view_name": "StyleView",
            "bar_color": null,
            "description_width": ""
          }
        },
        "2048fb708b7a4b5397480f8a150b4a93": {
          "model_module": "@jupyter-widgets/base",
          "model_name": "LayoutModel",
          "model_module_version": "1.2.0",
          "state": {
            "_model_module": "@jupyter-widgets/base",
            "_model_module_version": "1.2.0",
            "_model_name": "LayoutModel",
            "_view_count": null,
            "_view_module": "@jupyter-widgets/base",
            "_view_module_version": "1.2.0",
            "_view_name": "LayoutView",
            "align_content": null,
            "align_items": null,
            "align_self": null,
            "border": null,
            "bottom": null,
            "display": null,
            "flex": null,
            "flex_flow": null,
            "grid_area": null,
            "grid_auto_columns": null,
            "grid_auto_flow": null,
            "grid_auto_rows": null,
            "grid_column": null,
            "grid_gap": null,
            "grid_row": null,
            "grid_template_areas": null,
            "grid_template_columns": null,
            "grid_template_rows": null,
            "height": null,
            "justify_content": null,
            "justify_items": null,
            "left": null,
            "margin": null,
            "max_height": null,
            "max_width": null,
            "min_height": null,
            "min_width": null,
            "object_fit": null,
            "object_position": null,
            "order": null,
            "overflow": null,
            "overflow_x": null,
            "overflow_y": null,
            "padding": null,
            "right": null,
            "top": null,
            "visibility": null,
            "width": null
          }
        },
        "c3071b81fb0e44a192ba56193afabfee": {
          "model_module": "@jupyter-widgets/controls",
          "model_name": "DescriptionStyleModel",
          "model_module_version": "1.5.0",
          "state": {
            "_model_module": "@jupyter-widgets/controls",
            "_model_module_version": "1.5.0",
            "_model_name": "DescriptionStyleModel",
            "_view_count": null,
            "_view_module": "@jupyter-widgets/base",
            "_view_module_version": "1.2.0",
            "_view_name": "StyleView",
            "description_width": ""
          }
        },
        "59dcf19f189a41e0aeb2a2a4d33839b0": {
          "model_module": "@jupyter-widgets/controls",
          "model_name": "HBoxModel",
          "model_module_version": "1.5.0",
          "state": {
            "_dom_classes": [],
            "_model_module": "@jupyter-widgets/controls",
            "_model_module_version": "1.5.0",
            "_model_name": "HBoxModel",
            "_view_count": null,
            "_view_module": "@jupyter-widgets/controls",
            "_view_module_version": "1.5.0",
            "_view_name": "HBoxView",
            "box_style": "",
            "children": [
              "IPY_MODEL_d074e44fd3d64e33bbcf1797e9801b17",
              "IPY_MODEL_ce548c93f4a041e3858093366b65e4fe",
              "IPY_MODEL_a3097ed0098545ea84e136b065004197"
            ],
            "layout": "IPY_MODEL_dd5c3535ec37402f96c882f5cb9ebee8"
          }
        },
        "d074e44fd3d64e33bbcf1797e9801b17": {
          "model_module": "@jupyter-widgets/controls",
          "model_name": "HTMLModel",
          "model_module_version": "1.5.0",
          "state": {
            "_dom_classes": [],
            "_model_module": "@jupyter-widgets/controls",
            "_model_module_version": "1.5.0",
            "_model_name": "HTMLModel",
            "_view_count": null,
            "_view_module": "@jupyter-widgets/controls",
            "_view_module_version": "1.5.0",
            "_view_name": "HTMLView",
            "description": "",
            "description_tooltip": null,
            "layout": "IPY_MODEL_30f6283cefe946acbe94c2eee3b8a746",
            "placeholder": "​",
            "style": "IPY_MODEL_ef3396a9aa32451480676eaa6fc93d88",
            "value": "Downloading (…)lve/main/config.json: 100%"
          }
        },
        "ce548c93f4a041e3858093366b65e4fe": {
          "model_module": "@jupyter-widgets/controls",
          "model_name": "FloatProgressModel",
          "model_module_version": "1.5.0",
          "state": {
            "_dom_classes": [],
            "_model_module": "@jupyter-widgets/controls",
            "_model_module_version": "1.5.0",
            "_model_name": "FloatProgressModel",
            "_view_count": null,
            "_view_module": "@jupyter-widgets/controls",
            "_view_module_version": "1.5.0",
            "_view_name": "ProgressView",
            "bar_style": "success",
            "description": "",
            "description_tooltip": null,
            "layout": "IPY_MODEL_4ff03e1c18b74f67968a4db24ffef5bf",
            "max": 570,
            "min": 0,
            "orientation": "horizontal",
            "style": "IPY_MODEL_13e5c637eee3410abff95bd94e81c189",
            "value": 570
          }
        },
        "a3097ed0098545ea84e136b065004197": {
          "model_module": "@jupyter-widgets/controls",
          "model_name": "HTMLModel",
          "model_module_version": "1.5.0",
          "state": {
            "_dom_classes": [],
            "_model_module": "@jupyter-widgets/controls",
            "_model_module_version": "1.5.0",
            "_model_name": "HTMLModel",
            "_view_count": null,
            "_view_module": "@jupyter-widgets/controls",
            "_view_module_version": "1.5.0",
            "_view_name": "HTMLView",
            "description": "",
            "description_tooltip": null,
            "layout": "IPY_MODEL_1a3db2ebb31f445f9bf218559f6844b2",
            "placeholder": "​",
            "style": "IPY_MODEL_259e2982b8a248158d971cca8286c9db",
            "value": " 570/570 [00:00&lt;00:00, 10.8kB/s]"
          }
        },
        "dd5c3535ec37402f96c882f5cb9ebee8": {
          "model_module": "@jupyter-widgets/base",
          "model_name": "LayoutModel",
          "model_module_version": "1.2.0",
          "state": {
            "_model_module": "@jupyter-widgets/base",
            "_model_module_version": "1.2.0",
            "_model_name": "LayoutModel",
            "_view_count": null,
            "_view_module": "@jupyter-widgets/base",
            "_view_module_version": "1.2.0",
            "_view_name": "LayoutView",
            "align_content": null,
            "align_items": null,
            "align_self": null,
            "border": null,
            "bottom": null,
            "display": null,
            "flex": null,
            "flex_flow": null,
            "grid_area": null,
            "grid_auto_columns": null,
            "grid_auto_flow": null,
            "grid_auto_rows": null,
            "grid_column": null,
            "grid_gap": null,
            "grid_row": null,
            "grid_template_areas": null,
            "grid_template_columns": null,
            "grid_template_rows": null,
            "height": null,
            "justify_content": null,
            "justify_items": null,
            "left": null,
            "margin": null,
            "max_height": null,
            "max_width": null,
            "min_height": null,
            "min_width": null,
            "object_fit": null,
            "object_position": null,
            "order": null,
            "overflow": null,
            "overflow_x": null,
            "overflow_y": null,
            "padding": null,
            "right": null,
            "top": null,
            "visibility": null,
            "width": null
          }
        },
        "30f6283cefe946acbe94c2eee3b8a746": {
          "model_module": "@jupyter-widgets/base",
          "model_name": "LayoutModel",
          "model_module_version": "1.2.0",
          "state": {
            "_model_module": "@jupyter-widgets/base",
            "_model_module_version": "1.2.0",
            "_model_name": "LayoutModel",
            "_view_count": null,
            "_view_module": "@jupyter-widgets/base",
            "_view_module_version": "1.2.0",
            "_view_name": "LayoutView",
            "align_content": null,
            "align_items": null,
            "align_self": null,
            "border": null,
            "bottom": null,
            "display": null,
            "flex": null,
            "flex_flow": null,
            "grid_area": null,
            "grid_auto_columns": null,
            "grid_auto_flow": null,
            "grid_auto_rows": null,
            "grid_column": null,
            "grid_gap": null,
            "grid_row": null,
            "grid_template_areas": null,
            "grid_template_columns": null,
            "grid_template_rows": null,
            "height": null,
            "justify_content": null,
            "justify_items": null,
            "left": null,
            "margin": null,
            "max_height": null,
            "max_width": null,
            "min_height": null,
            "min_width": null,
            "object_fit": null,
            "object_position": null,
            "order": null,
            "overflow": null,
            "overflow_x": null,
            "overflow_y": null,
            "padding": null,
            "right": null,
            "top": null,
            "visibility": null,
            "width": null
          }
        },
        "ef3396a9aa32451480676eaa6fc93d88": {
          "model_module": "@jupyter-widgets/controls",
          "model_name": "DescriptionStyleModel",
          "model_module_version": "1.5.0",
          "state": {
            "_model_module": "@jupyter-widgets/controls",
            "_model_module_version": "1.5.0",
            "_model_name": "DescriptionStyleModel",
            "_view_count": null,
            "_view_module": "@jupyter-widgets/base",
            "_view_module_version": "1.2.0",
            "_view_name": "StyleView",
            "description_width": ""
          }
        },
        "4ff03e1c18b74f67968a4db24ffef5bf": {
          "model_module": "@jupyter-widgets/base",
          "model_name": "LayoutModel",
          "model_module_version": "1.2.0",
          "state": {
            "_model_module": "@jupyter-widgets/base",
            "_model_module_version": "1.2.0",
            "_model_name": "LayoutModel",
            "_view_count": null,
            "_view_module": "@jupyter-widgets/base",
            "_view_module_version": "1.2.0",
            "_view_name": "LayoutView",
            "align_content": null,
            "align_items": null,
            "align_self": null,
            "border": null,
            "bottom": null,
            "display": null,
            "flex": null,
            "flex_flow": null,
            "grid_area": null,
            "grid_auto_columns": null,
            "grid_auto_flow": null,
            "grid_auto_rows": null,
            "grid_column": null,
            "grid_gap": null,
            "grid_row": null,
            "grid_template_areas": null,
            "grid_template_columns": null,
            "grid_template_rows": null,
            "height": null,
            "justify_content": null,
            "justify_items": null,
            "left": null,
            "margin": null,
            "max_height": null,
            "max_width": null,
            "min_height": null,
            "min_width": null,
            "object_fit": null,
            "object_position": null,
            "order": null,
            "overflow": null,
            "overflow_x": null,
            "overflow_y": null,
            "padding": null,
            "right": null,
            "top": null,
            "visibility": null,
            "width": null
          }
        },
        "13e5c637eee3410abff95bd94e81c189": {
          "model_module": "@jupyter-widgets/controls",
          "model_name": "ProgressStyleModel",
          "model_module_version": "1.5.0",
          "state": {
            "_model_module": "@jupyter-widgets/controls",
            "_model_module_version": "1.5.0",
            "_model_name": "ProgressStyleModel",
            "_view_count": null,
            "_view_module": "@jupyter-widgets/base",
            "_view_module_version": "1.2.0",
            "_view_name": "StyleView",
            "bar_color": null,
            "description_width": ""
          }
        },
        "1a3db2ebb31f445f9bf218559f6844b2": {
          "model_module": "@jupyter-widgets/base",
          "model_name": "LayoutModel",
          "model_module_version": "1.2.0",
          "state": {
            "_model_module": "@jupyter-widgets/base",
            "_model_module_version": "1.2.0",
            "_model_name": "LayoutModel",
            "_view_count": null,
            "_view_module": "@jupyter-widgets/base",
            "_view_module_version": "1.2.0",
            "_view_name": "LayoutView",
            "align_content": null,
            "align_items": null,
            "align_self": null,
            "border": null,
            "bottom": null,
            "display": null,
            "flex": null,
            "flex_flow": null,
            "grid_area": null,
            "grid_auto_columns": null,
            "grid_auto_flow": null,
            "grid_auto_rows": null,
            "grid_column": null,
            "grid_gap": null,
            "grid_row": null,
            "grid_template_areas": null,
            "grid_template_columns": null,
            "grid_template_rows": null,
            "height": null,
            "justify_content": null,
            "justify_items": null,
            "left": null,
            "margin": null,
            "max_height": null,
            "max_width": null,
            "min_height": null,
            "min_width": null,
            "object_fit": null,
            "object_position": null,
            "order": null,
            "overflow": null,
            "overflow_x": null,
            "overflow_y": null,
            "padding": null,
            "right": null,
            "top": null,
            "visibility": null,
            "width": null
          }
        },
        "259e2982b8a248158d971cca8286c9db": {
          "model_module": "@jupyter-widgets/controls",
          "model_name": "DescriptionStyleModel",
          "model_module_version": "1.5.0",
          "state": {
            "_model_module": "@jupyter-widgets/controls",
            "_model_module_version": "1.5.0",
            "_model_name": "DescriptionStyleModel",
            "_view_count": null,
            "_view_module": "@jupyter-widgets/base",
            "_view_module_version": "1.2.0",
            "_view_name": "StyleView",
            "description_width": ""
          }
        },
        "cd5d4674219243c0a75875ac65715271": {
          "model_module": "@jupyter-widgets/controls",
          "model_name": "HBoxModel",
          "model_module_version": "1.5.0",
          "state": {
            "_dom_classes": [],
            "_model_module": "@jupyter-widgets/controls",
            "_model_module_version": "1.5.0",
            "_model_name": "HBoxModel",
            "_view_count": null,
            "_view_module": "@jupyter-widgets/controls",
            "_view_module_version": "1.5.0",
            "_view_name": "HBoxView",
            "box_style": "",
            "children": [
              "IPY_MODEL_41cbb0b2569f4adeaee15ffbe5939318",
              "IPY_MODEL_ef48fd82406a40ed808877726836c86e",
              "IPY_MODEL_9a8a4c52382448c69748fa6a927ac646"
            ],
            "layout": "IPY_MODEL_9650735f57c44a06b4377465f058f560"
          }
        },
        "41cbb0b2569f4adeaee15ffbe5939318": {
          "model_module": "@jupyter-widgets/controls",
          "model_name": "HTMLModel",
          "model_module_version": "1.5.0",
          "state": {
            "_dom_classes": [],
            "_model_module": "@jupyter-widgets/controls",
            "_model_module_version": "1.5.0",
            "_model_name": "HTMLModel",
            "_view_count": null,
            "_view_module": "@jupyter-widgets/controls",
            "_view_module_version": "1.5.0",
            "_view_name": "HTMLView",
            "description": "",
            "description_tooltip": null,
            "layout": "IPY_MODEL_161a5227774245228b6ad0c0a0e8b02b",
            "placeholder": "​",
            "style": "IPY_MODEL_d3f550c206dd47db83569b2e5f16a40c",
            "value": "Downloading (…)solve/main/vocab.txt: 100%"
          }
        },
        "ef48fd82406a40ed808877726836c86e": {
          "model_module": "@jupyter-widgets/controls",
          "model_name": "FloatProgressModel",
          "model_module_version": "1.5.0",
          "state": {
            "_dom_classes": [],
            "_model_module": "@jupyter-widgets/controls",
            "_model_module_version": "1.5.0",
            "_model_name": "FloatProgressModel",
            "_view_count": null,
            "_view_module": "@jupyter-widgets/controls",
            "_view_module_version": "1.5.0",
            "_view_name": "ProgressView",
            "bar_style": "success",
            "description": "",
            "description_tooltip": null,
            "layout": "IPY_MODEL_4ad5ad0678fb42e3bb67bccbace15d96",
            "max": 231508,
            "min": 0,
            "orientation": "horizontal",
            "style": "IPY_MODEL_8418c250436e492eb6815a66cb362058",
            "value": 231508
          }
        },
        "9a8a4c52382448c69748fa6a927ac646": {
          "model_module": "@jupyter-widgets/controls",
          "model_name": "HTMLModel",
          "model_module_version": "1.5.0",
          "state": {
            "_dom_classes": [],
            "_model_module": "@jupyter-widgets/controls",
            "_model_module_version": "1.5.0",
            "_model_name": "HTMLModel",
            "_view_count": null,
            "_view_module": "@jupyter-widgets/controls",
            "_view_module_version": "1.5.0",
            "_view_name": "HTMLView",
            "description": "",
            "description_tooltip": null,
            "layout": "IPY_MODEL_9f85ddd3667e4c4292de108685029f4d",
            "placeholder": "​",
            "style": "IPY_MODEL_08fa87f24182414bbdb4e07f944c818a",
            "value": " 232k/232k [00:00&lt;00:00, 2.49MB/s]"
          }
        },
        "9650735f57c44a06b4377465f058f560": {
          "model_module": "@jupyter-widgets/base",
          "model_name": "LayoutModel",
          "model_module_version": "1.2.0",
          "state": {
            "_model_module": "@jupyter-widgets/base",
            "_model_module_version": "1.2.0",
            "_model_name": "LayoutModel",
            "_view_count": null,
            "_view_module": "@jupyter-widgets/base",
            "_view_module_version": "1.2.0",
            "_view_name": "LayoutView",
            "align_content": null,
            "align_items": null,
            "align_self": null,
            "border": null,
            "bottom": null,
            "display": null,
            "flex": null,
            "flex_flow": null,
            "grid_area": null,
            "grid_auto_columns": null,
            "grid_auto_flow": null,
            "grid_auto_rows": null,
            "grid_column": null,
            "grid_gap": null,
            "grid_row": null,
            "grid_template_areas": null,
            "grid_template_columns": null,
            "grid_template_rows": null,
            "height": null,
            "justify_content": null,
            "justify_items": null,
            "left": null,
            "margin": null,
            "max_height": null,
            "max_width": null,
            "min_height": null,
            "min_width": null,
            "object_fit": null,
            "object_position": null,
            "order": null,
            "overflow": null,
            "overflow_x": null,
            "overflow_y": null,
            "padding": null,
            "right": null,
            "top": null,
            "visibility": null,
            "width": null
          }
        },
        "161a5227774245228b6ad0c0a0e8b02b": {
          "model_module": "@jupyter-widgets/base",
          "model_name": "LayoutModel",
          "model_module_version": "1.2.0",
          "state": {
            "_model_module": "@jupyter-widgets/base",
            "_model_module_version": "1.2.0",
            "_model_name": "LayoutModel",
            "_view_count": null,
            "_view_module": "@jupyter-widgets/base",
            "_view_module_version": "1.2.0",
            "_view_name": "LayoutView",
            "align_content": null,
            "align_items": null,
            "align_self": null,
            "border": null,
            "bottom": null,
            "display": null,
            "flex": null,
            "flex_flow": null,
            "grid_area": null,
            "grid_auto_columns": null,
            "grid_auto_flow": null,
            "grid_auto_rows": null,
            "grid_column": null,
            "grid_gap": null,
            "grid_row": null,
            "grid_template_areas": null,
            "grid_template_columns": null,
            "grid_template_rows": null,
            "height": null,
            "justify_content": null,
            "justify_items": null,
            "left": null,
            "margin": null,
            "max_height": null,
            "max_width": null,
            "min_height": null,
            "min_width": null,
            "object_fit": null,
            "object_position": null,
            "order": null,
            "overflow": null,
            "overflow_x": null,
            "overflow_y": null,
            "padding": null,
            "right": null,
            "top": null,
            "visibility": null,
            "width": null
          }
        },
        "d3f550c206dd47db83569b2e5f16a40c": {
          "model_module": "@jupyter-widgets/controls",
          "model_name": "DescriptionStyleModel",
          "model_module_version": "1.5.0",
          "state": {
            "_model_module": "@jupyter-widgets/controls",
            "_model_module_version": "1.5.0",
            "_model_name": "DescriptionStyleModel",
            "_view_count": null,
            "_view_module": "@jupyter-widgets/base",
            "_view_module_version": "1.2.0",
            "_view_name": "StyleView",
            "description_width": ""
          }
        },
        "4ad5ad0678fb42e3bb67bccbace15d96": {
          "model_module": "@jupyter-widgets/base",
          "model_name": "LayoutModel",
          "model_module_version": "1.2.0",
          "state": {
            "_model_module": "@jupyter-widgets/base",
            "_model_module_version": "1.2.0",
            "_model_name": "LayoutModel",
            "_view_count": null,
            "_view_module": "@jupyter-widgets/base",
            "_view_module_version": "1.2.0",
            "_view_name": "LayoutView",
            "align_content": null,
            "align_items": null,
            "align_self": null,
            "border": null,
            "bottom": null,
            "display": null,
            "flex": null,
            "flex_flow": null,
            "grid_area": null,
            "grid_auto_columns": null,
            "grid_auto_flow": null,
            "grid_auto_rows": null,
            "grid_column": null,
            "grid_gap": null,
            "grid_row": null,
            "grid_template_areas": null,
            "grid_template_columns": null,
            "grid_template_rows": null,
            "height": null,
            "justify_content": null,
            "justify_items": null,
            "left": null,
            "margin": null,
            "max_height": null,
            "max_width": null,
            "min_height": null,
            "min_width": null,
            "object_fit": null,
            "object_position": null,
            "order": null,
            "overflow": null,
            "overflow_x": null,
            "overflow_y": null,
            "padding": null,
            "right": null,
            "top": null,
            "visibility": null,
            "width": null
          }
        },
        "8418c250436e492eb6815a66cb362058": {
          "model_module": "@jupyter-widgets/controls",
          "model_name": "ProgressStyleModel",
          "model_module_version": "1.5.0",
          "state": {
            "_model_module": "@jupyter-widgets/controls",
            "_model_module_version": "1.5.0",
            "_model_name": "ProgressStyleModel",
            "_view_count": null,
            "_view_module": "@jupyter-widgets/base",
            "_view_module_version": "1.2.0",
            "_view_name": "StyleView",
            "bar_color": null,
            "description_width": ""
          }
        },
        "9f85ddd3667e4c4292de108685029f4d": {
          "model_module": "@jupyter-widgets/base",
          "model_name": "LayoutModel",
          "model_module_version": "1.2.0",
          "state": {
            "_model_module": "@jupyter-widgets/base",
            "_model_module_version": "1.2.0",
            "_model_name": "LayoutModel",
            "_view_count": null,
            "_view_module": "@jupyter-widgets/base",
            "_view_module_version": "1.2.0",
            "_view_name": "LayoutView",
            "align_content": null,
            "align_items": null,
            "align_self": null,
            "border": null,
            "bottom": null,
            "display": null,
            "flex": null,
            "flex_flow": null,
            "grid_area": null,
            "grid_auto_columns": null,
            "grid_auto_flow": null,
            "grid_auto_rows": null,
            "grid_column": null,
            "grid_gap": null,
            "grid_row": null,
            "grid_template_areas": null,
            "grid_template_columns": null,
            "grid_template_rows": null,
            "height": null,
            "justify_content": null,
            "justify_items": null,
            "left": null,
            "margin": null,
            "max_height": null,
            "max_width": null,
            "min_height": null,
            "min_width": null,
            "object_fit": null,
            "object_position": null,
            "order": null,
            "overflow": null,
            "overflow_x": null,
            "overflow_y": null,
            "padding": null,
            "right": null,
            "top": null,
            "visibility": null,
            "width": null
          }
        },
        "08fa87f24182414bbdb4e07f944c818a": {
          "model_module": "@jupyter-widgets/controls",
          "model_name": "DescriptionStyleModel",
          "model_module_version": "1.5.0",
          "state": {
            "_model_module": "@jupyter-widgets/controls",
            "_model_module_version": "1.5.0",
            "_model_name": "DescriptionStyleModel",
            "_view_count": null,
            "_view_module": "@jupyter-widgets/base",
            "_view_module_version": "1.2.0",
            "_view_name": "StyleView",
            "description_width": ""
          }
        },
        "0bb53830d88e49e5beda765940052745": {
          "model_module": "@jupyter-widgets/controls",
          "model_name": "HBoxModel",
          "model_module_version": "1.5.0",
          "state": {
            "_dom_classes": [],
            "_model_module": "@jupyter-widgets/controls",
            "_model_module_version": "1.5.0",
            "_model_name": "HBoxModel",
            "_view_count": null,
            "_view_module": "@jupyter-widgets/controls",
            "_view_module_version": "1.5.0",
            "_view_name": "HBoxView",
            "box_style": "",
            "children": [
              "IPY_MODEL_b1769a981a0f4648968bd30c9413dc89",
              "IPY_MODEL_c289e7d2a86948eabbeda038f9df00d9",
              "IPY_MODEL_c8c4f36807984ff49e55e074f22cb277"
            ],
            "layout": "IPY_MODEL_bd7b7011d73841229692485d2aa17e5c"
          }
        },
        "b1769a981a0f4648968bd30c9413dc89": {
          "model_module": "@jupyter-widgets/controls",
          "model_name": "HTMLModel",
          "model_module_version": "1.5.0",
          "state": {
            "_dom_classes": [],
            "_model_module": "@jupyter-widgets/controls",
            "_model_module_version": "1.5.0",
            "_model_name": "HTMLModel",
            "_view_count": null,
            "_view_module": "@jupyter-widgets/controls",
            "_view_module_version": "1.5.0",
            "_view_name": "HTMLView",
            "description": "",
            "description_tooltip": null,
            "layout": "IPY_MODEL_1fceed5d398842bc86d2783ee5495935",
            "placeholder": "​",
            "style": "IPY_MODEL_f308255df07e4f5db7dcb6ddb0714cc1",
            "value": "Downloading (…)/main/tokenizer.json: 100%"
          }
        },
        "c289e7d2a86948eabbeda038f9df00d9": {
          "model_module": "@jupyter-widgets/controls",
          "model_name": "FloatProgressModel",
          "model_module_version": "1.5.0",
          "state": {
            "_dom_classes": [],
            "_model_module": "@jupyter-widgets/controls",
            "_model_module_version": "1.5.0",
            "_model_name": "FloatProgressModel",
            "_view_count": null,
            "_view_module": "@jupyter-widgets/controls",
            "_view_module_version": "1.5.0",
            "_view_name": "ProgressView",
            "bar_style": "success",
            "description": "",
            "description_tooltip": null,
            "layout": "IPY_MODEL_fe2b04cef04d459eb421cbf105f4044a",
            "max": 466062,
            "min": 0,
            "orientation": "horizontal",
            "style": "IPY_MODEL_d13ee199f63440819f486638120db506",
            "value": 466062
          }
        },
        "c8c4f36807984ff49e55e074f22cb277": {
          "model_module": "@jupyter-widgets/controls",
          "model_name": "HTMLModel",
          "model_module_version": "1.5.0",
          "state": {
            "_dom_classes": [],
            "_model_module": "@jupyter-widgets/controls",
            "_model_module_version": "1.5.0",
            "_model_name": "HTMLModel",
            "_view_count": null,
            "_view_module": "@jupyter-widgets/controls",
            "_view_module_version": "1.5.0",
            "_view_name": "HTMLView",
            "description": "",
            "description_tooltip": null,
            "layout": "IPY_MODEL_c29867f114ef4c7b91d1f02838a6ce4b",
            "placeholder": "​",
            "style": "IPY_MODEL_45d5beed78f74b798243e674ffc8843e",
            "value": " 466k/466k [00:00&lt;00:00, 5.42MB/s]"
          }
        },
        "bd7b7011d73841229692485d2aa17e5c": {
          "model_module": "@jupyter-widgets/base",
          "model_name": "LayoutModel",
          "model_module_version": "1.2.0",
          "state": {
            "_model_module": "@jupyter-widgets/base",
            "_model_module_version": "1.2.0",
            "_model_name": "LayoutModel",
            "_view_count": null,
            "_view_module": "@jupyter-widgets/base",
            "_view_module_version": "1.2.0",
            "_view_name": "LayoutView",
            "align_content": null,
            "align_items": null,
            "align_self": null,
            "border": null,
            "bottom": null,
            "display": null,
            "flex": null,
            "flex_flow": null,
            "grid_area": null,
            "grid_auto_columns": null,
            "grid_auto_flow": null,
            "grid_auto_rows": null,
            "grid_column": null,
            "grid_gap": null,
            "grid_row": null,
            "grid_template_areas": null,
            "grid_template_columns": null,
            "grid_template_rows": null,
            "height": null,
            "justify_content": null,
            "justify_items": null,
            "left": null,
            "margin": null,
            "max_height": null,
            "max_width": null,
            "min_height": null,
            "min_width": null,
            "object_fit": null,
            "object_position": null,
            "order": null,
            "overflow": null,
            "overflow_x": null,
            "overflow_y": null,
            "padding": null,
            "right": null,
            "top": null,
            "visibility": null,
            "width": null
          }
        },
        "1fceed5d398842bc86d2783ee5495935": {
          "model_module": "@jupyter-widgets/base",
          "model_name": "LayoutModel",
          "model_module_version": "1.2.0",
          "state": {
            "_model_module": "@jupyter-widgets/base",
            "_model_module_version": "1.2.0",
            "_model_name": "LayoutModel",
            "_view_count": null,
            "_view_module": "@jupyter-widgets/base",
            "_view_module_version": "1.2.0",
            "_view_name": "LayoutView",
            "align_content": null,
            "align_items": null,
            "align_self": null,
            "border": null,
            "bottom": null,
            "display": null,
            "flex": null,
            "flex_flow": null,
            "grid_area": null,
            "grid_auto_columns": null,
            "grid_auto_flow": null,
            "grid_auto_rows": null,
            "grid_column": null,
            "grid_gap": null,
            "grid_row": null,
            "grid_template_areas": null,
            "grid_template_columns": null,
            "grid_template_rows": null,
            "height": null,
            "justify_content": null,
            "justify_items": null,
            "left": null,
            "margin": null,
            "max_height": null,
            "max_width": null,
            "min_height": null,
            "min_width": null,
            "object_fit": null,
            "object_position": null,
            "order": null,
            "overflow": null,
            "overflow_x": null,
            "overflow_y": null,
            "padding": null,
            "right": null,
            "top": null,
            "visibility": null,
            "width": null
          }
        },
        "f308255df07e4f5db7dcb6ddb0714cc1": {
          "model_module": "@jupyter-widgets/controls",
          "model_name": "DescriptionStyleModel",
          "model_module_version": "1.5.0",
          "state": {
            "_model_module": "@jupyter-widgets/controls",
            "_model_module_version": "1.5.0",
            "_model_name": "DescriptionStyleModel",
            "_view_count": null,
            "_view_module": "@jupyter-widgets/base",
            "_view_module_version": "1.2.0",
            "_view_name": "StyleView",
            "description_width": ""
          }
        },
        "fe2b04cef04d459eb421cbf105f4044a": {
          "model_module": "@jupyter-widgets/base",
          "model_name": "LayoutModel",
          "model_module_version": "1.2.0",
          "state": {
            "_model_module": "@jupyter-widgets/base",
            "_model_module_version": "1.2.0",
            "_model_name": "LayoutModel",
            "_view_count": null,
            "_view_module": "@jupyter-widgets/base",
            "_view_module_version": "1.2.0",
            "_view_name": "LayoutView",
            "align_content": null,
            "align_items": null,
            "align_self": null,
            "border": null,
            "bottom": null,
            "display": null,
            "flex": null,
            "flex_flow": null,
            "grid_area": null,
            "grid_auto_columns": null,
            "grid_auto_flow": null,
            "grid_auto_rows": null,
            "grid_column": null,
            "grid_gap": null,
            "grid_row": null,
            "grid_template_areas": null,
            "grid_template_columns": null,
            "grid_template_rows": null,
            "height": null,
            "justify_content": null,
            "justify_items": null,
            "left": null,
            "margin": null,
            "max_height": null,
            "max_width": null,
            "min_height": null,
            "min_width": null,
            "object_fit": null,
            "object_position": null,
            "order": null,
            "overflow": null,
            "overflow_x": null,
            "overflow_y": null,
            "padding": null,
            "right": null,
            "top": null,
            "visibility": null,
            "width": null
          }
        },
        "d13ee199f63440819f486638120db506": {
          "model_module": "@jupyter-widgets/controls",
          "model_name": "ProgressStyleModel",
          "model_module_version": "1.5.0",
          "state": {
            "_model_module": "@jupyter-widgets/controls",
            "_model_module_version": "1.5.0",
            "_model_name": "ProgressStyleModel",
            "_view_count": null,
            "_view_module": "@jupyter-widgets/base",
            "_view_module_version": "1.2.0",
            "_view_name": "StyleView",
            "bar_color": null,
            "description_width": ""
          }
        },
        "c29867f114ef4c7b91d1f02838a6ce4b": {
          "model_module": "@jupyter-widgets/base",
          "model_name": "LayoutModel",
          "model_module_version": "1.2.0",
          "state": {
            "_model_module": "@jupyter-widgets/base",
            "_model_module_version": "1.2.0",
            "_model_name": "LayoutModel",
            "_view_count": null,
            "_view_module": "@jupyter-widgets/base",
            "_view_module_version": "1.2.0",
            "_view_name": "LayoutView",
            "align_content": null,
            "align_items": null,
            "align_self": null,
            "border": null,
            "bottom": null,
            "display": null,
            "flex": null,
            "flex_flow": null,
            "grid_area": null,
            "grid_auto_columns": null,
            "grid_auto_flow": null,
            "grid_auto_rows": null,
            "grid_column": null,
            "grid_gap": null,
            "grid_row": null,
            "grid_template_areas": null,
            "grid_template_columns": null,
            "grid_template_rows": null,
            "height": null,
            "justify_content": null,
            "justify_items": null,
            "left": null,
            "margin": null,
            "max_height": null,
            "max_width": null,
            "min_height": null,
            "min_width": null,
            "object_fit": null,
            "object_position": null,
            "order": null,
            "overflow": null,
            "overflow_x": null,
            "overflow_y": null,
            "padding": null,
            "right": null,
            "top": null,
            "visibility": null,
            "width": null
          }
        },
        "45d5beed78f74b798243e674ffc8843e": {
          "model_module": "@jupyter-widgets/controls",
          "model_name": "DescriptionStyleModel",
          "model_module_version": "1.5.0",
          "state": {
            "_model_module": "@jupyter-widgets/controls",
            "_model_module_version": "1.5.0",
            "_model_name": "DescriptionStyleModel",
            "_view_count": null,
            "_view_module": "@jupyter-widgets/base",
            "_view_module_version": "1.2.0",
            "_view_name": "StyleView",
            "description_width": ""
          }
        },
        "a7d5da17bb4943a689351fee5e37a151": {
          "model_module": "@jupyter-widgets/controls",
          "model_name": "HBoxModel",
          "model_module_version": "1.5.0",
          "state": {
            "_dom_classes": [],
            "_model_module": "@jupyter-widgets/controls",
            "_model_module_version": "1.5.0",
            "_model_name": "HBoxModel",
            "_view_count": null,
            "_view_module": "@jupyter-widgets/controls",
            "_view_module_version": "1.5.0",
            "_view_name": "HBoxView",
            "box_style": "",
            "children": [
              "IPY_MODEL_63439ff91eef44d8b5a06fcae06b8611",
              "IPY_MODEL_1cb6006456444b5885b22b89b248153e",
              "IPY_MODEL_011eee9690944694909db45b61ba2338"
            ],
            "layout": "IPY_MODEL_a82cb20995d14996914a29540272144c"
          }
        },
        "63439ff91eef44d8b5a06fcae06b8611": {
          "model_module": "@jupyter-widgets/controls",
          "model_name": "HTMLModel",
          "model_module_version": "1.5.0",
          "state": {
            "_dom_classes": [],
            "_model_module": "@jupyter-widgets/controls",
            "_model_module_version": "1.5.0",
            "_model_name": "HTMLModel",
            "_view_count": null,
            "_view_module": "@jupyter-widgets/controls",
            "_view_module_version": "1.5.0",
            "_view_name": "HTMLView",
            "description": "",
            "description_tooltip": null,
            "layout": "IPY_MODEL_76a0f9e310324ff2b6311c774e6798c8",
            "placeholder": "​",
            "style": "IPY_MODEL_d505109303bb473aad210363a18782a7",
            "value": "Downloading model.safetensors: 100%"
          }
        },
        "1cb6006456444b5885b22b89b248153e": {
          "model_module": "@jupyter-widgets/controls",
          "model_name": "FloatProgressModel",
          "model_module_version": "1.5.0",
          "state": {
            "_dom_classes": [],
            "_model_module": "@jupyter-widgets/controls",
            "_model_module_version": "1.5.0",
            "_model_name": "FloatProgressModel",
            "_view_count": null,
            "_view_module": "@jupyter-widgets/controls",
            "_view_module_version": "1.5.0",
            "_view_name": "ProgressView",
            "bar_style": "success",
            "description": "",
            "description_tooltip": null,
            "layout": "IPY_MODEL_1ba99e79d82547b98de1b30a325a4ee2",
            "max": 440449768,
            "min": 0,
            "orientation": "horizontal",
            "style": "IPY_MODEL_e0a24d4a9f5044139b5868d90b057507",
            "value": 440449768
          }
        },
        "011eee9690944694909db45b61ba2338": {
          "model_module": "@jupyter-widgets/controls",
          "model_name": "HTMLModel",
          "model_module_version": "1.5.0",
          "state": {
            "_dom_classes": [],
            "_model_module": "@jupyter-widgets/controls",
            "_model_module_version": "1.5.0",
            "_model_name": "HTMLModel",
            "_view_count": null,
            "_view_module": "@jupyter-widgets/controls",
            "_view_module_version": "1.5.0",
            "_view_name": "HTMLView",
            "description": "",
            "description_tooltip": null,
            "layout": "IPY_MODEL_60c0b40d38b94dfaae3e5e11439fda1c",
            "placeholder": "​",
            "style": "IPY_MODEL_6b9f6f032e0741a696f36b636c83e15f",
            "value": " 440M/440M [00:05&lt;00:00, 107MB/s]"
          }
        },
        "a82cb20995d14996914a29540272144c": {
          "model_module": "@jupyter-widgets/base",
          "model_name": "LayoutModel",
          "model_module_version": "1.2.0",
          "state": {
            "_model_module": "@jupyter-widgets/base",
            "_model_module_version": "1.2.0",
            "_model_name": "LayoutModel",
            "_view_count": null,
            "_view_module": "@jupyter-widgets/base",
            "_view_module_version": "1.2.0",
            "_view_name": "LayoutView",
            "align_content": null,
            "align_items": null,
            "align_self": null,
            "border": null,
            "bottom": null,
            "display": null,
            "flex": null,
            "flex_flow": null,
            "grid_area": null,
            "grid_auto_columns": null,
            "grid_auto_flow": null,
            "grid_auto_rows": null,
            "grid_column": null,
            "grid_gap": null,
            "grid_row": null,
            "grid_template_areas": null,
            "grid_template_columns": null,
            "grid_template_rows": null,
            "height": null,
            "justify_content": null,
            "justify_items": null,
            "left": null,
            "margin": null,
            "max_height": null,
            "max_width": null,
            "min_height": null,
            "min_width": null,
            "object_fit": null,
            "object_position": null,
            "order": null,
            "overflow": null,
            "overflow_x": null,
            "overflow_y": null,
            "padding": null,
            "right": null,
            "top": null,
            "visibility": null,
            "width": null
          }
        },
        "76a0f9e310324ff2b6311c774e6798c8": {
          "model_module": "@jupyter-widgets/base",
          "model_name": "LayoutModel",
          "model_module_version": "1.2.0",
          "state": {
            "_model_module": "@jupyter-widgets/base",
            "_model_module_version": "1.2.0",
            "_model_name": "LayoutModel",
            "_view_count": null,
            "_view_module": "@jupyter-widgets/base",
            "_view_module_version": "1.2.0",
            "_view_name": "LayoutView",
            "align_content": null,
            "align_items": null,
            "align_self": null,
            "border": null,
            "bottom": null,
            "display": null,
            "flex": null,
            "flex_flow": null,
            "grid_area": null,
            "grid_auto_columns": null,
            "grid_auto_flow": null,
            "grid_auto_rows": null,
            "grid_column": null,
            "grid_gap": null,
            "grid_row": null,
            "grid_template_areas": null,
            "grid_template_columns": null,
            "grid_template_rows": null,
            "height": null,
            "justify_content": null,
            "justify_items": null,
            "left": null,
            "margin": null,
            "max_height": null,
            "max_width": null,
            "min_height": null,
            "min_width": null,
            "object_fit": null,
            "object_position": null,
            "order": null,
            "overflow": null,
            "overflow_x": null,
            "overflow_y": null,
            "padding": null,
            "right": null,
            "top": null,
            "visibility": null,
            "width": null
          }
        },
        "d505109303bb473aad210363a18782a7": {
          "model_module": "@jupyter-widgets/controls",
          "model_name": "DescriptionStyleModel",
          "model_module_version": "1.5.0",
          "state": {
            "_model_module": "@jupyter-widgets/controls",
            "_model_module_version": "1.5.0",
            "_model_name": "DescriptionStyleModel",
            "_view_count": null,
            "_view_module": "@jupyter-widgets/base",
            "_view_module_version": "1.2.0",
            "_view_name": "StyleView",
            "description_width": ""
          }
        },
        "1ba99e79d82547b98de1b30a325a4ee2": {
          "model_module": "@jupyter-widgets/base",
          "model_name": "LayoutModel",
          "model_module_version": "1.2.0",
          "state": {
            "_model_module": "@jupyter-widgets/base",
            "_model_module_version": "1.2.0",
            "_model_name": "LayoutModel",
            "_view_count": null,
            "_view_module": "@jupyter-widgets/base",
            "_view_module_version": "1.2.0",
            "_view_name": "LayoutView",
            "align_content": null,
            "align_items": null,
            "align_self": null,
            "border": null,
            "bottom": null,
            "display": null,
            "flex": null,
            "flex_flow": null,
            "grid_area": null,
            "grid_auto_columns": null,
            "grid_auto_flow": null,
            "grid_auto_rows": null,
            "grid_column": null,
            "grid_gap": null,
            "grid_row": null,
            "grid_template_areas": null,
            "grid_template_columns": null,
            "grid_template_rows": null,
            "height": null,
            "justify_content": null,
            "justify_items": null,
            "left": null,
            "margin": null,
            "max_height": null,
            "max_width": null,
            "min_height": null,
            "min_width": null,
            "object_fit": null,
            "object_position": null,
            "order": null,
            "overflow": null,
            "overflow_x": null,
            "overflow_y": null,
            "padding": null,
            "right": null,
            "top": null,
            "visibility": null,
            "width": null
          }
        },
        "e0a24d4a9f5044139b5868d90b057507": {
          "model_module": "@jupyter-widgets/controls",
          "model_name": "ProgressStyleModel",
          "model_module_version": "1.5.0",
          "state": {
            "_model_module": "@jupyter-widgets/controls",
            "_model_module_version": "1.5.0",
            "_model_name": "ProgressStyleModel",
            "_view_count": null,
            "_view_module": "@jupyter-widgets/base",
            "_view_module_version": "1.2.0",
            "_view_name": "StyleView",
            "bar_color": null,
            "description_width": ""
          }
        },
        "60c0b40d38b94dfaae3e5e11439fda1c": {
          "model_module": "@jupyter-widgets/base",
          "model_name": "LayoutModel",
          "model_module_version": "1.2.0",
          "state": {
            "_model_module": "@jupyter-widgets/base",
            "_model_module_version": "1.2.0",
            "_model_name": "LayoutModel",
            "_view_count": null,
            "_view_module": "@jupyter-widgets/base",
            "_view_module_version": "1.2.0",
            "_view_name": "LayoutView",
            "align_content": null,
            "align_items": null,
            "align_self": null,
            "border": null,
            "bottom": null,
            "display": null,
            "flex": null,
            "flex_flow": null,
            "grid_area": null,
            "grid_auto_columns": null,
            "grid_auto_flow": null,
            "grid_auto_rows": null,
            "grid_column": null,
            "grid_gap": null,
            "grid_row": null,
            "grid_template_areas": null,
            "grid_template_columns": null,
            "grid_template_rows": null,
            "height": null,
            "justify_content": null,
            "justify_items": null,
            "left": null,
            "margin": null,
            "max_height": null,
            "max_width": null,
            "min_height": null,
            "min_width": null,
            "object_fit": null,
            "object_position": null,
            "order": null,
            "overflow": null,
            "overflow_x": null,
            "overflow_y": null,
            "padding": null,
            "right": null,
            "top": null,
            "visibility": null,
            "width": null
          }
        },
        "6b9f6f032e0741a696f36b636c83e15f": {
          "model_module": "@jupyter-widgets/controls",
          "model_name": "DescriptionStyleModel",
          "model_module_version": "1.5.0",
          "state": {
            "_model_module": "@jupyter-widgets/controls",
            "_model_module_version": "1.5.0",
            "_model_name": "DescriptionStyleModel",
            "_view_count": null,
            "_view_module": "@jupyter-widgets/base",
            "_view_module_version": "1.2.0",
            "_view_name": "StyleView",
            "description_width": ""
          }
        }
      }
    }
  },
  "cells": [
    {
      "cell_type": "code",
      "execution_count": null,
      "metadata": {
        "colab": {
          "base_uri": "https://localhost:8080/"
        },
        "id": "ZIxX37jGUubD",
        "outputId": "776c29ad-da04-4d40-9bea-88e57ee8ba5f"
      },
      "outputs": [
        {
          "output_type": "stream",
          "name": "stdout",
          "text": [
            "Collecting transformers[torch]\n",
            "  Downloading transformers-4.35.0-py3-none-any.whl (7.9 MB)\n",
            "\u001b[2K     \u001b[90m━━━━━━━━━━━━━━━━━━━━━━━━━━━━━━━━━━━━━━━━\u001b[0m \u001b[32m7.9/7.9 MB\u001b[0m \u001b[31m53.0 MB/s\u001b[0m eta \u001b[36m0:00:00\u001b[0m\n",
            "\u001b[?25hRequirement already satisfied: filelock in /usr/local/lib/python3.10/dist-packages (from transformers[torch]) (3.13.1)\n",
            "Collecting huggingface-hub<1.0,>=0.16.4 (from transformers[torch])\n",
            "  Downloading huggingface_hub-0.19.0-py3-none-any.whl (311 kB)\n",
            "\u001b[2K     \u001b[90m━━━━━━━━━━━━━━━━━━━━━━━━━━━━━━━━━━━━━━━━\u001b[0m \u001b[32m311.2/311.2 kB\u001b[0m \u001b[31m36.3 MB/s\u001b[0m eta \u001b[36m0:00:00\u001b[0m\n",
            "\u001b[?25hRequirement already satisfied: numpy>=1.17 in /usr/local/lib/python3.10/dist-packages (from transformers[torch]) (1.23.5)\n",
            "Requirement already satisfied: packaging>=20.0 in /usr/local/lib/python3.10/dist-packages (from transformers[torch]) (23.2)\n",
            "Requirement already satisfied: pyyaml>=5.1 in /usr/local/lib/python3.10/dist-packages (from transformers[torch]) (6.0.1)\n",
            "Requirement already satisfied: regex!=2019.12.17 in /usr/local/lib/python3.10/dist-packages (from transformers[torch]) (2023.6.3)\n",
            "Requirement already satisfied: requests in /usr/local/lib/python3.10/dist-packages (from transformers[torch]) (2.31.0)\n",
            "Collecting tokenizers<0.15,>=0.14 (from transformers[torch])\n",
            "  Downloading tokenizers-0.14.1-cp310-cp310-manylinux_2_17_x86_64.manylinux2014_x86_64.whl (3.8 MB)\n",
            "\u001b[2K     \u001b[90m━━━━━━━━━━━━━━━━━━━━━━━━━━━━━━━━━━━━━━━━\u001b[0m \u001b[32m3.8/3.8 MB\u001b[0m \u001b[31m100.5 MB/s\u001b[0m eta \u001b[36m0:00:00\u001b[0m\n",
            "\u001b[?25hCollecting safetensors>=0.3.1 (from transformers[torch])\n",
            "  Downloading safetensors-0.4.0-cp310-cp310-manylinux_2_17_x86_64.manylinux2014_x86_64.whl (1.3 MB)\n",
            "\u001b[2K     \u001b[90m━━━━━━━━━━━━━━━━━━━━━━━━━━━━━━━━━━━━━━━━\u001b[0m \u001b[32m1.3/1.3 MB\u001b[0m \u001b[31m78.1 MB/s\u001b[0m eta \u001b[36m0:00:00\u001b[0m\n",
            "\u001b[?25hRequirement already satisfied: tqdm>=4.27 in /usr/local/lib/python3.10/dist-packages (from transformers[torch]) (4.66.1)\n",
            "Requirement already satisfied: torch!=1.12.0,>=1.10 in /usr/local/lib/python3.10/dist-packages (from transformers[torch]) (2.1.0+cu118)\n",
            "Collecting accelerate>=0.20.3 (from transformers[torch])\n",
            "  Downloading accelerate-0.24.1-py3-none-any.whl (261 kB)\n",
            "\u001b[2K     \u001b[90m━━━━━━━━━━━━━━━━━━━━━━━━━━━━━━━━━━━━━━━━\u001b[0m \u001b[32m261.4/261.4 kB\u001b[0m \u001b[31m21.1 MB/s\u001b[0m eta \u001b[36m0:00:00\u001b[0m\n",
            "\u001b[?25hRequirement already satisfied: psutil in /usr/local/lib/python3.10/dist-packages (from accelerate>=0.20.3->transformers[torch]) (5.9.5)\n",
            "Requirement already satisfied: fsspec>=2023.5.0 in /usr/local/lib/python3.10/dist-packages (from huggingface-hub<1.0,>=0.16.4->transformers[torch]) (2023.6.0)\n",
            "Requirement already satisfied: typing-extensions>=3.7.4.3 in /usr/local/lib/python3.10/dist-packages (from huggingface-hub<1.0,>=0.16.4->transformers[torch]) (4.5.0)\n",
            "Collecting huggingface-hub<1.0,>=0.16.4 (from transformers[torch])\n",
            "  Downloading huggingface_hub-0.17.3-py3-none-any.whl (295 kB)\n",
            "\u001b[2K     \u001b[90m━━━━━━━━━━━━━━━━━━━━━━━━━━━━━━━━━━━━━━━━\u001b[0m \u001b[32m295.0/295.0 kB\u001b[0m \u001b[31m26.9 MB/s\u001b[0m eta \u001b[36m0:00:00\u001b[0m\n",
            "\u001b[?25hRequirement already satisfied: sympy in /usr/local/lib/python3.10/dist-packages (from torch!=1.12.0,>=1.10->transformers[torch]) (1.12)\n",
            "Requirement already satisfied: networkx in /usr/local/lib/python3.10/dist-packages (from torch!=1.12.0,>=1.10->transformers[torch]) (3.2.1)\n",
            "Requirement already satisfied: jinja2 in /usr/local/lib/python3.10/dist-packages (from torch!=1.12.0,>=1.10->transformers[torch]) (3.1.2)\n",
            "Requirement already satisfied: triton==2.1.0 in /usr/local/lib/python3.10/dist-packages (from torch!=1.12.0,>=1.10->transformers[torch]) (2.1.0)\n",
            "Requirement already satisfied: charset-normalizer<4,>=2 in /usr/local/lib/python3.10/dist-packages (from requests->transformers[torch]) (3.3.2)\n",
            "Requirement already satisfied: idna<4,>=2.5 in /usr/local/lib/python3.10/dist-packages (from requests->transformers[torch]) (3.4)\n",
            "Requirement already satisfied: urllib3<3,>=1.21.1 in /usr/local/lib/python3.10/dist-packages (from requests->transformers[torch]) (2.0.7)\n",
            "Requirement already satisfied: certifi>=2017.4.17 in /usr/local/lib/python3.10/dist-packages (from requests->transformers[torch]) (2023.7.22)\n",
            "Requirement already satisfied: MarkupSafe>=2.0 in /usr/local/lib/python3.10/dist-packages (from jinja2->torch!=1.12.0,>=1.10->transformers[torch]) (2.1.3)\n",
            "Requirement already satisfied: mpmath>=0.19 in /usr/local/lib/python3.10/dist-packages (from sympy->torch!=1.12.0,>=1.10->transformers[torch]) (1.3.0)\n",
            "Installing collected packages: safetensors, huggingface-hub, tokenizers, accelerate, transformers\n",
            "Successfully installed accelerate-0.24.1 huggingface-hub-0.17.3 safetensors-0.4.0 tokenizers-0.14.1 transformers-4.35.0\n",
            "Requirement already satisfied: accelerate in /usr/local/lib/python3.10/dist-packages (0.24.1)\n",
            "Requirement already satisfied: numpy>=1.17 in /usr/local/lib/python3.10/dist-packages (from accelerate) (1.23.5)\n",
            "Requirement already satisfied: packaging>=20.0 in /usr/local/lib/python3.10/dist-packages (from accelerate) (23.2)\n",
            "Requirement already satisfied: psutil in /usr/local/lib/python3.10/dist-packages (from accelerate) (5.9.5)\n",
            "Requirement already satisfied: pyyaml in /usr/local/lib/python3.10/dist-packages (from accelerate) (6.0.1)\n",
            "Requirement already satisfied: torch>=1.10.0 in /usr/local/lib/python3.10/dist-packages (from accelerate) (2.1.0+cu118)\n",
            "Requirement already satisfied: huggingface-hub in /usr/local/lib/python3.10/dist-packages (from accelerate) (0.17.3)\n",
            "Requirement already satisfied: filelock in /usr/local/lib/python3.10/dist-packages (from torch>=1.10.0->accelerate) (3.13.1)\n",
            "Requirement already satisfied: typing-extensions in /usr/local/lib/python3.10/dist-packages (from torch>=1.10.0->accelerate) (4.5.0)\n",
            "Requirement already satisfied: sympy in /usr/local/lib/python3.10/dist-packages (from torch>=1.10.0->accelerate) (1.12)\n",
            "Requirement already satisfied: networkx in /usr/local/lib/python3.10/dist-packages (from torch>=1.10.0->accelerate) (3.2.1)\n",
            "Requirement already satisfied: jinja2 in /usr/local/lib/python3.10/dist-packages (from torch>=1.10.0->accelerate) (3.1.2)\n",
            "Requirement already satisfied: fsspec in /usr/local/lib/python3.10/dist-packages (from torch>=1.10.0->accelerate) (2023.6.0)\n",
            "Requirement already satisfied: triton==2.1.0 in /usr/local/lib/python3.10/dist-packages (from torch>=1.10.0->accelerate) (2.1.0)\n",
            "Requirement already satisfied: requests in /usr/local/lib/python3.10/dist-packages (from huggingface-hub->accelerate) (2.31.0)\n",
            "Requirement already satisfied: tqdm>=4.42.1 in /usr/local/lib/python3.10/dist-packages (from huggingface-hub->accelerate) (4.66.1)\n",
            "Requirement already satisfied: MarkupSafe>=2.0 in /usr/local/lib/python3.10/dist-packages (from jinja2->torch>=1.10.0->accelerate) (2.1.3)\n",
            "Requirement already satisfied: charset-normalizer<4,>=2 in /usr/local/lib/python3.10/dist-packages (from requests->huggingface-hub->accelerate) (3.3.2)\n",
            "Requirement already satisfied: idna<4,>=2.5 in /usr/local/lib/python3.10/dist-packages (from requests->huggingface-hub->accelerate) (3.4)\n",
            "Requirement already satisfied: urllib3<3,>=1.21.1 in /usr/local/lib/python3.10/dist-packages (from requests->huggingface-hub->accelerate) (2.0.7)\n",
            "Requirement already satisfied: certifi>=2017.4.17 in /usr/local/lib/python3.10/dist-packages (from requests->huggingface-hub->accelerate) (2023.7.22)\n",
            "Requirement already satisfied: mpmath>=0.19 in /usr/local/lib/python3.10/dist-packages (from sympy->torch>=1.10.0->accelerate) (1.3.0)\n",
            "Collecting sentence-transformers\n",
            "  Downloading sentence-transformers-2.2.2.tar.gz (85 kB)\n",
            "\u001b[2K     \u001b[90m━━━━━━━━━━━━━━━━━━━━━━━━━━━━━━━━━━━━━━━━\u001b[0m \u001b[32m86.0/86.0 kB\u001b[0m \u001b[31m2.2 MB/s\u001b[0m eta \u001b[36m0:00:00\u001b[0m\n",
            "\u001b[?25h  Preparing metadata (setup.py) ... \u001b[?25l\u001b[?25hdone\n",
            "Requirement already satisfied: transformers<5.0.0,>=4.6.0 in /usr/local/lib/python3.10/dist-packages (from sentence-transformers) (4.35.0)\n",
            "Requirement already satisfied: tqdm in /usr/local/lib/python3.10/dist-packages (from sentence-transformers) (4.66.1)\n",
            "Requirement already satisfied: torch>=1.6.0 in /usr/local/lib/python3.10/dist-packages (from sentence-transformers) (2.1.0+cu118)\n",
            "Requirement already satisfied: torchvision in /usr/local/lib/python3.10/dist-packages (from sentence-transformers) (0.16.0+cu118)\n",
            "Requirement already satisfied: numpy in /usr/local/lib/python3.10/dist-packages (from sentence-transformers) (1.23.5)\n",
            "Requirement already satisfied: scikit-learn in /usr/local/lib/python3.10/dist-packages (from sentence-transformers) (1.2.2)\n",
            "Requirement already satisfied: scipy in /usr/local/lib/python3.10/dist-packages (from sentence-transformers) (1.11.3)\n",
            "Requirement already satisfied: nltk in /usr/local/lib/python3.10/dist-packages (from sentence-transformers) (3.8.1)\n",
            "Collecting sentencepiece (from sentence-transformers)\n",
            "  Downloading sentencepiece-0.1.99-cp310-cp310-manylinux_2_17_x86_64.manylinux2014_x86_64.whl (1.3 MB)\n",
            "\u001b[2K     \u001b[90m━━━━━━━━━━━━━━━━━━━━━━━━━━━━━━━━━━━━━━━━\u001b[0m \u001b[32m1.3/1.3 MB\u001b[0m \u001b[31m26.2 MB/s\u001b[0m eta \u001b[36m0:00:00\u001b[0m\n",
            "\u001b[?25hRequirement already satisfied: huggingface-hub>=0.4.0 in /usr/local/lib/python3.10/dist-packages (from sentence-transformers) (0.17.3)\n",
            "Requirement already satisfied: filelock in /usr/local/lib/python3.10/dist-packages (from huggingface-hub>=0.4.0->sentence-transformers) (3.13.1)\n",
            "Requirement already satisfied: fsspec in /usr/local/lib/python3.10/dist-packages (from huggingface-hub>=0.4.0->sentence-transformers) (2023.6.0)\n",
            "Requirement already satisfied: requests in /usr/local/lib/python3.10/dist-packages (from huggingface-hub>=0.4.0->sentence-transformers) (2.31.0)\n",
            "Requirement already satisfied: pyyaml>=5.1 in /usr/local/lib/python3.10/dist-packages (from huggingface-hub>=0.4.0->sentence-transformers) (6.0.1)\n",
            "Requirement already satisfied: typing-extensions>=3.7.4.3 in /usr/local/lib/python3.10/dist-packages (from huggingface-hub>=0.4.0->sentence-transformers) (4.5.0)\n",
            "Requirement already satisfied: packaging>=20.9 in /usr/local/lib/python3.10/dist-packages (from huggingface-hub>=0.4.0->sentence-transformers) (23.2)\n",
            "Requirement already satisfied: sympy in /usr/local/lib/python3.10/dist-packages (from torch>=1.6.0->sentence-transformers) (1.12)\n",
            "Requirement already satisfied: networkx in /usr/local/lib/python3.10/dist-packages (from torch>=1.6.0->sentence-transformers) (3.2.1)\n",
            "Requirement already satisfied: jinja2 in /usr/local/lib/python3.10/dist-packages (from torch>=1.6.0->sentence-transformers) (3.1.2)\n",
            "Requirement already satisfied: triton==2.1.0 in /usr/local/lib/python3.10/dist-packages (from torch>=1.6.0->sentence-transformers) (2.1.0)\n",
            "Requirement already satisfied: regex!=2019.12.17 in /usr/local/lib/python3.10/dist-packages (from transformers<5.0.0,>=4.6.0->sentence-transformers) (2023.6.3)\n",
            "Requirement already satisfied: tokenizers<0.15,>=0.14 in /usr/local/lib/python3.10/dist-packages (from transformers<5.0.0,>=4.6.0->sentence-transformers) (0.14.1)\n",
            "Requirement already satisfied: safetensors>=0.3.1 in /usr/local/lib/python3.10/dist-packages (from transformers<5.0.0,>=4.6.0->sentence-transformers) (0.4.0)\n",
            "Requirement already satisfied: click in /usr/local/lib/python3.10/dist-packages (from nltk->sentence-transformers) (8.1.7)\n",
            "Requirement already satisfied: joblib in /usr/local/lib/python3.10/dist-packages (from nltk->sentence-transformers) (1.3.2)\n",
            "Requirement already satisfied: threadpoolctl>=2.0.0 in /usr/local/lib/python3.10/dist-packages (from scikit-learn->sentence-transformers) (3.2.0)\n",
            "Requirement already satisfied: pillow!=8.3.*,>=5.3.0 in /usr/local/lib/python3.10/dist-packages (from torchvision->sentence-transformers) (9.4.0)\n",
            "Requirement already satisfied: MarkupSafe>=2.0 in /usr/local/lib/python3.10/dist-packages (from jinja2->torch>=1.6.0->sentence-transformers) (2.1.3)\n",
            "Requirement already satisfied: charset-normalizer<4,>=2 in /usr/local/lib/python3.10/dist-packages (from requests->huggingface-hub>=0.4.0->sentence-transformers) (3.3.2)\n",
            "Requirement already satisfied: idna<4,>=2.5 in /usr/local/lib/python3.10/dist-packages (from requests->huggingface-hub>=0.4.0->sentence-transformers) (3.4)\n",
            "Requirement already satisfied: urllib3<3,>=1.21.1 in /usr/local/lib/python3.10/dist-packages (from requests->huggingface-hub>=0.4.0->sentence-transformers) (2.0.7)\n",
            "Requirement already satisfied: certifi>=2017.4.17 in /usr/local/lib/python3.10/dist-packages (from requests->huggingface-hub>=0.4.0->sentence-transformers) (2023.7.22)\n",
            "Requirement already satisfied: mpmath>=0.19 in /usr/local/lib/python3.10/dist-packages (from sympy->torch>=1.6.0->sentence-transformers) (1.3.0)\n",
            "Building wheels for collected packages: sentence-transformers\n",
            "  Building wheel for sentence-transformers (setup.py) ... \u001b[?25l\u001b[?25hdone\n",
            "  Created wheel for sentence-transformers: filename=sentence_transformers-2.2.2-py3-none-any.whl size=125923 sha256=f9858db24073c9c103277c34650c738ba8f26e25a571d6448b3991df8565068e\n",
            "  Stored in directory: /root/.cache/pip/wheels/62/f2/10/1e606fd5f02395388f74e7462910fe851042f97238cbbd902f\n",
            "Successfully built sentence-transformers\n",
            "Installing collected packages: sentencepiece, sentence-transformers\n",
            "Successfully installed sentence-transformers-2.2.2 sentencepiece-0.1.99\n",
            "Collecting datasets\n",
            "  Downloading datasets-2.14.6-py3-none-any.whl (493 kB)\n",
            "\u001b[2K     \u001b[90m━━━━━━━━━━━━━━━━━━━━━━━━━━━━━━━━━━━━━━━━\u001b[0m \u001b[32m493.7/493.7 kB\u001b[0m \u001b[31m6.0 MB/s\u001b[0m eta \u001b[36m0:00:00\u001b[0m\n",
            "\u001b[?25hRequirement already satisfied: numpy>=1.17 in /usr/local/lib/python3.10/dist-packages (from datasets) (1.23.5)\n",
            "Requirement already satisfied: pyarrow>=8.0.0 in /usr/local/lib/python3.10/dist-packages (from datasets) (9.0.0)\n",
            "Collecting dill<0.3.8,>=0.3.0 (from datasets)\n",
            "  Downloading dill-0.3.7-py3-none-any.whl (115 kB)\n",
            "\u001b[2K     \u001b[90m━━━━━━━━━━━━━━━━━━━━━━━━━━━━━━━━━━━━━━━━\u001b[0m \u001b[32m115.3/115.3 kB\u001b[0m \u001b[31m11.4 MB/s\u001b[0m eta \u001b[36m0:00:00\u001b[0m\n",
            "\u001b[?25hRequirement already satisfied: pandas in /usr/local/lib/python3.10/dist-packages (from datasets) (1.5.3)\n",
            "Requirement already satisfied: requests>=2.19.0 in /usr/local/lib/python3.10/dist-packages (from datasets) (2.31.0)\n",
            "Requirement already satisfied: tqdm>=4.62.1 in /usr/local/lib/python3.10/dist-packages (from datasets) (4.66.1)\n",
            "Requirement already satisfied: xxhash in /usr/local/lib/python3.10/dist-packages (from datasets) (3.4.1)\n",
            "Collecting multiprocess (from datasets)\n",
            "  Downloading multiprocess-0.70.15-py310-none-any.whl (134 kB)\n",
            "\u001b[2K     \u001b[90m━━━━━━━━━━━━━━━━━━━━━━━━━━━━━━━━━━━━━━━━\u001b[0m \u001b[32m134.8/134.8 kB\u001b[0m \u001b[31m11.0 MB/s\u001b[0m eta \u001b[36m0:00:00\u001b[0m\n",
            "\u001b[?25hRequirement already satisfied: fsspec[http]<=2023.10.0,>=2023.1.0 in /usr/local/lib/python3.10/dist-packages (from datasets) (2023.6.0)\n",
            "Requirement already satisfied: aiohttp in /usr/local/lib/python3.10/dist-packages (from datasets) (3.8.6)\n",
            "Requirement already satisfied: huggingface-hub<1.0.0,>=0.14.0 in /usr/local/lib/python3.10/dist-packages (from datasets) (0.17.3)\n",
            "Requirement already satisfied: packaging in /usr/local/lib/python3.10/dist-packages (from datasets) (23.2)\n",
            "Requirement already satisfied: pyyaml>=5.1 in /usr/local/lib/python3.10/dist-packages (from datasets) (6.0.1)\n",
            "Requirement already satisfied: attrs>=17.3.0 in /usr/local/lib/python3.10/dist-packages (from aiohttp->datasets) (23.1.0)\n",
            "Requirement already satisfied: charset-normalizer<4.0,>=2.0 in /usr/local/lib/python3.10/dist-packages (from aiohttp->datasets) (3.3.2)\n",
            "Requirement already satisfied: multidict<7.0,>=4.5 in /usr/local/lib/python3.10/dist-packages (from aiohttp->datasets) (6.0.4)\n",
            "Requirement already satisfied: async-timeout<5.0,>=4.0.0a3 in /usr/local/lib/python3.10/dist-packages (from aiohttp->datasets) (4.0.3)\n",
            "Requirement already satisfied: yarl<2.0,>=1.0 in /usr/local/lib/python3.10/dist-packages (from aiohttp->datasets) (1.9.2)\n",
            "Requirement already satisfied: frozenlist>=1.1.1 in /usr/local/lib/python3.10/dist-packages (from aiohttp->datasets) (1.4.0)\n",
            "Requirement already satisfied: aiosignal>=1.1.2 in /usr/local/lib/python3.10/dist-packages (from aiohttp->datasets) (1.3.1)\n",
            "Requirement already satisfied: filelock in /usr/local/lib/python3.10/dist-packages (from huggingface-hub<1.0.0,>=0.14.0->datasets) (3.13.1)\n",
            "Requirement already satisfied: typing-extensions>=3.7.4.3 in /usr/local/lib/python3.10/dist-packages (from huggingface-hub<1.0.0,>=0.14.0->datasets) (4.5.0)\n",
            "Requirement already satisfied: idna<4,>=2.5 in /usr/local/lib/python3.10/dist-packages (from requests>=2.19.0->datasets) (3.4)\n",
            "Requirement already satisfied: urllib3<3,>=1.21.1 in /usr/local/lib/python3.10/dist-packages (from requests>=2.19.0->datasets) (2.0.7)\n",
            "Requirement already satisfied: certifi>=2017.4.17 in /usr/local/lib/python3.10/dist-packages (from requests>=2.19.0->datasets) (2023.7.22)\n",
            "Requirement already satisfied: python-dateutil>=2.8.1 in /usr/local/lib/python3.10/dist-packages (from pandas->datasets) (2.8.2)\n",
            "Requirement already satisfied: pytz>=2020.1 in /usr/local/lib/python3.10/dist-packages (from pandas->datasets) (2023.3.post1)\n",
            "Requirement already satisfied: six>=1.5 in /usr/local/lib/python3.10/dist-packages (from python-dateutil>=2.8.1->pandas->datasets) (1.16.0)\n",
            "Installing collected packages: dill, multiprocess, datasets\n",
            "Successfully installed datasets-2.14.6 dill-0.3.7 multiprocess-0.70.15\n",
            "Collecting unidecode\n",
            "  Downloading Unidecode-1.3.7-py3-none-any.whl (235 kB)\n",
            "\u001b[2K     \u001b[90m━━━━━━━━━━━━━━━━━━━━━━━━━━━━━━━━━━━━━━━━\u001b[0m \u001b[32m235.5/235.5 kB\u001b[0m \u001b[31m5.0 MB/s\u001b[0m eta \u001b[36m0:00:00\u001b[0m\n",
            "\u001b[?25hInstalling collected packages: unidecode\n",
            "Successfully installed unidecode-1.3.7\n",
            "--2023-11-13 11:37:29--  https://raw.githubusercontent.com/CSDL-UMD/google-relation-extraction-corpus-augmented/master/dob_augment-200526.json\n",
            "Resolving raw.githubusercontent.com (raw.githubusercontent.com)... 185.199.108.133, 185.199.109.133, 185.199.110.133, ...\n",
            "Connecting to raw.githubusercontent.com (raw.githubusercontent.com)|185.199.108.133|:443... connected.\n",
            "HTTP request sent, awaiting response... 200 OK\n",
            "Length: 3225326 (3.1M) [text/plain]\n",
            "Saving to: ‘dob_augment-200526.json’\n",
            "\n",
            "dob_augment-200526. 100%[===================>]   3.08M  --.-KB/s    in 0.08s   \n",
            "\n",
            "2023-11-13 11:37:30 (39.2 MB/s) - ‘dob_augment-200526.json’ saved [3225326/3225326]\n",
            "\n",
            "--2023-11-13 11:37:30--  https://raw.githubusercontent.com/CSDL-UMD/google-relation-extraction-corpus-augmented/master/pob_augment-200526.json\n",
            "Resolving raw.githubusercontent.com (raw.githubusercontent.com)... 185.199.108.133, 185.199.109.133, 185.199.110.133, ...\n",
            "Connecting to raw.githubusercontent.com (raw.githubusercontent.com)|185.199.108.133|:443... connected.\n",
            "HTTP request sent, awaiting response... 200 OK\n",
            "Length: 13113185 (13M) [text/plain]\n",
            "Saving to: ‘pob_augment-200526.json’\n",
            "\n",
            "pob_augment-200526. 100%[===================>]  12.50M  --.-KB/s    in 0.1s    \n",
            "\n",
            "2023-11-13 11:37:31 (110 MB/s) - ‘pob_augment-200526.json’ saved [13113185/13113185]\n",
            "\n",
            "--2023-11-13 11:37:31--  https://raw.githubusercontent.com/CSDL-UMD/google-relation-extraction-corpus-augmented/master/pod_augment-200526.json\n",
            "Resolving raw.githubusercontent.com (raw.githubusercontent.com)... 185.199.108.133, 185.199.110.133, 185.199.109.133, ...\n",
            "Connecting to raw.githubusercontent.com (raw.githubusercontent.com)|185.199.108.133|:443... connected.\n",
            "HTTP request sent, awaiting response... 200 OK\n",
            "Length: 4143350 (4.0M) [text/plain]\n",
            "Saving to: ‘pod_augment-200526.json’\n",
            "\n",
            "pod_augment-200526. 100%[===================>]   3.95M  --.-KB/s    in 0.08s   \n",
            "\n",
            "2023-11-13 11:37:32 (48.6 MB/s) - ‘pod_augment-200526.json’ saved [4143350/4143350]\n",
            "\n"
          ]
        }
      ],
      "source": [
        "!pip install transformers[torch]\n",
        "!pip install accelerate -U\n",
        "!pip install -U sentence-transformers\n",
        "!pip install datasets\n",
        "!pip install unidecode\n",
        "!wget https://raw.githubusercontent.com/CSDL-UMD/google-relation-extraction-corpus-augmented/master/dob_augment-200526.json\n",
        "!wget https://raw.githubusercontent.com/CSDL-UMD/google-relation-extraction-corpus-augmented/master/pob_augment-200526.json\n",
        "!wget https://raw.githubusercontent.com/CSDL-UMD/google-relation-extraction-corpus-augmented/master/pod_augment-200526.json"
      ]
    },
    {
      "cell_type": "code",
      "source": [
        "!wget -c 'https://s3.amazonaws.com/models.huggingface.co/bert/transfo-xl-wt103-vocab.bin' -O 'vocab.bin'\n",
        "!python -c 'import torch; print(*torch.load(\"vocab.bin\")[\"sym2idx\"].keys(), sep=\"\\n\")' | sort > vocab.txt\n",
        "with open(\"vocab.txt\", \"r\") as f:\n",
        "  lines = f.readlines()\n",
        "  vocab = [x.strip() for x in lines]"
      ],
      "metadata": {
        "colab": {
          "base_uri": "https://localhost:8080/"
        },
        "id": "7p2-I8t-IBhP",
        "outputId": "fc62488f-3457-4f27-ab59-2488bad32390"
      },
      "execution_count": null,
      "outputs": [
        {
          "output_type": "stream",
          "name": "stdout",
          "text": [
            "--2023-11-13 11:37:32--  https://s3.amazonaws.com/models.huggingface.co/bert/transfo-xl-wt103-vocab.bin\n",
            "Resolving s3.amazonaws.com (s3.amazonaws.com)... 52.217.44.6, 16.182.109.152, 54.231.135.160, ...\n",
            "Connecting to s3.amazonaws.com (s3.amazonaws.com)|52.217.44.6|:443... connected.\n",
            "HTTP request sent, awaiting response... 200 OK\n",
            "Length: 9143613 (8.7M) [application/octet-stream]\n",
            "Saving to: ‘vocab.bin’\n",
            "\n",
            "vocab.bin           100%[===================>]   8.72M  31.4MB/s    in 0.3s    \n",
            "\n",
            "2023-11-13 11:37:32 (31.4 MB/s) - ‘vocab.bin’ saved [9143613/9143613]\n",
            "\n"
          ]
        }
      ]
    },
    {
      "cell_type": "code",
      "source": [
        "import pandas as pd\n",
        "from transformers import AutoModelForMaskedLM, AutoConfig\n",
        "from transformers import AutoTokenizer\n",
        "from transformers import DataCollatorForLanguageModeling\n",
        "import torch\n",
        "import collections\n",
        "import numpy as np\n",
        "from transformers import default_data_collator\n",
        "from datasets import Dataset\n",
        "from huggingface_hub import login\n",
        "from transformers import TrainingArguments\n",
        "from transformers import Trainer\n",
        "import math\n",
        "from transformers import pipeline\n",
        "from transformers import DistilBertTokenizerFast\n",
        "from sklearn.model_selection import train_test_split\n",
        "from datetime import datetime\n",
        "import re\n",
        "from transformers import DistilBertForQuestionAnswering\n",
        "from torch.utils.data import DataLoader\n",
        "from transformers import AdamW\n",
        "from sentence_transformers import SentenceTransformer, util\n",
        "from datetime import datetime\n",
        "import random as rd\n",
        "import unidecode"
      ],
      "metadata": {
        "id": "M95g7IXzffrQ"
      },
      "execution_count": null,
      "outputs": []
    },
    {
      "cell_type": "code",
      "source": [
        "model_checkpoint = \"bert-base-uncased\"\n",
        "\n",
        "tokenizer = AutoTokenizer.from_pretrained(model_checkpoint, use_fast=False)\n",
        "model = AutoModelForMaskedLM.from_pretrained(model_checkpoint)"
      ],
      "metadata": {
        "colab": {
          "base_uri": "https://localhost:8080/",
          "height": 229,
          "referenced_widgets": [
            "d3daeaaa77e24cebb4ba1d58ad4176ab",
            "89bb0fd39cbb4223b07161e39e5e91f4",
            "6993ea229eaf41959e6b765a3ce88d22",
            "8c1e0c8df80b47859a28247f77f529b7",
            "3fdd5eb1309b4c0cbccaec22e314b993",
            "bcc087d19560455abacda3153657bd10",
            "6ff139ddbea543a6bfa32345ca200205",
            "957d0cf6adda46d191f8b0b8316fcd7f",
            "fcfd72eee97749aba598f9e70eef41ab",
            "2048fb708b7a4b5397480f8a150b4a93",
            "c3071b81fb0e44a192ba56193afabfee",
            "59dcf19f189a41e0aeb2a2a4d33839b0",
            "d074e44fd3d64e33bbcf1797e9801b17",
            "ce548c93f4a041e3858093366b65e4fe",
            "a3097ed0098545ea84e136b065004197",
            "dd5c3535ec37402f96c882f5cb9ebee8",
            "30f6283cefe946acbe94c2eee3b8a746",
            "ef3396a9aa32451480676eaa6fc93d88",
            "4ff03e1c18b74f67968a4db24ffef5bf",
            "13e5c637eee3410abff95bd94e81c189",
            "1a3db2ebb31f445f9bf218559f6844b2",
            "259e2982b8a248158d971cca8286c9db",
            "cd5d4674219243c0a75875ac65715271",
            "41cbb0b2569f4adeaee15ffbe5939318",
            "ef48fd82406a40ed808877726836c86e",
            "9a8a4c52382448c69748fa6a927ac646",
            "9650735f57c44a06b4377465f058f560",
            "161a5227774245228b6ad0c0a0e8b02b",
            "d3f550c206dd47db83569b2e5f16a40c",
            "4ad5ad0678fb42e3bb67bccbace15d96",
            "8418c250436e492eb6815a66cb362058",
            "9f85ddd3667e4c4292de108685029f4d",
            "08fa87f24182414bbdb4e07f944c818a",
            "0bb53830d88e49e5beda765940052745",
            "b1769a981a0f4648968bd30c9413dc89",
            "c289e7d2a86948eabbeda038f9df00d9",
            "c8c4f36807984ff49e55e074f22cb277",
            "bd7b7011d73841229692485d2aa17e5c",
            "1fceed5d398842bc86d2783ee5495935",
            "f308255df07e4f5db7dcb6ddb0714cc1",
            "fe2b04cef04d459eb421cbf105f4044a",
            "d13ee199f63440819f486638120db506",
            "c29867f114ef4c7b91d1f02838a6ce4b",
            "45d5beed78f74b798243e674ffc8843e",
            "a7d5da17bb4943a689351fee5e37a151",
            "63439ff91eef44d8b5a06fcae06b8611",
            "1cb6006456444b5885b22b89b248153e",
            "011eee9690944694909db45b61ba2338",
            "a82cb20995d14996914a29540272144c",
            "76a0f9e310324ff2b6311c774e6798c8",
            "d505109303bb473aad210363a18782a7",
            "1ba99e79d82547b98de1b30a325a4ee2",
            "e0a24d4a9f5044139b5868d90b057507",
            "60c0b40d38b94dfaae3e5e11439fda1c",
            "6b9f6f032e0741a696f36b636c83e15f"
          ]
        },
        "id": "n1roakqtI9IS",
        "outputId": "a86ee601-3409-47e3-915f-93a819240072"
      },
      "execution_count": null,
      "outputs": [
        {
          "output_type": "display_data",
          "data": {
            "text/plain": [
              "Downloading (…)okenizer_config.json:   0%|          | 0.00/28.0 [00:00<?, ?B/s]"
            ],
            "application/vnd.jupyter.widget-view+json": {
              "version_major": 2,
              "version_minor": 0,
              "model_id": "d3daeaaa77e24cebb4ba1d58ad4176ab"
            }
          },
          "metadata": {}
        },
        {
          "output_type": "display_data",
          "data": {
            "text/plain": [
              "Downloading (…)lve/main/config.json:   0%|          | 0.00/570 [00:00<?, ?B/s]"
            ],
            "application/vnd.jupyter.widget-view+json": {
              "version_major": 2,
              "version_minor": 0,
              "model_id": "59dcf19f189a41e0aeb2a2a4d33839b0"
            }
          },
          "metadata": {}
        },
        {
          "output_type": "display_data",
          "data": {
            "text/plain": [
              "Downloading (…)solve/main/vocab.txt:   0%|          | 0.00/232k [00:00<?, ?B/s]"
            ],
            "application/vnd.jupyter.widget-view+json": {
              "version_major": 2,
              "version_minor": 0,
              "model_id": "cd5d4674219243c0a75875ac65715271"
            }
          },
          "metadata": {}
        },
        {
          "output_type": "display_data",
          "data": {
            "text/plain": [
              "Downloading (…)/main/tokenizer.json:   0%|          | 0.00/466k [00:00<?, ?B/s]"
            ],
            "application/vnd.jupyter.widget-view+json": {
              "version_major": 2,
              "version_minor": 0,
              "model_id": "0bb53830d88e49e5beda765940052745"
            }
          },
          "metadata": {}
        },
        {
          "output_type": "display_data",
          "data": {
            "text/plain": [
              "Downloading model.safetensors:   0%|          | 0.00/440M [00:00<?, ?B/s]"
            ],
            "application/vnd.jupyter.widget-view+json": {
              "version_major": 2,
              "version_minor": 0,
              "model_id": "a7d5da17bb4943a689351fee5e37a151"
            }
          },
          "metadata": {}
        },
        {
          "output_type": "stream",
          "name": "stderr",
          "text": [
            "Some weights of the model checkpoint at bert-base-uncased were not used when initializing BertForMaskedLM: ['cls.seq_relationship.weight', 'bert.pooler.dense.bias', 'bert.pooler.dense.weight', 'cls.seq_relationship.bias']\n",
            "- This IS expected if you are initializing BertForMaskedLM from the checkpoint of a model trained on another task or with another architecture (e.g. initializing a BertForSequenceClassification model from a BertForPreTraining model).\n",
            "- This IS NOT expected if you are initializing BertForMaskedLM from the checkpoint of a model that you expect to be exactly identical (initializing a BertForSequenceClassification model from a BertForSequenceClassification model).\n"
          ]
        }
      ]
    },
    {
      "cell_type": "markdown",
      "source": [
        "### ***Data pre-processing according to some rules used in paper***"
      ],
      "metadata": {
        "id": "PNJ4u3tmQXvz"
      }
    },
    {
      "cell_type": "code",
      "source": [
        "df = pd.read_json('/content/dob_augment-200526.json')\n",
        "df = df.where(df['maj_vote']=='yes')\n",
        "df = df.dropna(axis=0, how='all').reset_index()\n",
        "for i in range(len(df.evidences)):\n",
        "  df.evidences[i] = df.evidences[i][0].get('snippet')\n",
        "df = df[['pred', 'sub', 'obj', 'evidences']]\n",
        "df = df.rename(columns={\"sub\": \"subj\"}, errors=\"raise\")\n",
        "df = df.apply(lambda x: x.astype(str).str.lower())\n",
        "subj_new = []\n",
        "obj_new = []\n",
        "evidence_new = []\n",
        "for subj, obj, evid in zip(df['subj'], df['obj'], df['evidences']):\n",
        "  if obj.startswith('0') and obj.isnumeric():\n",
        "    obj = str(int(obj))\n",
        "  if obj not in evid:\n",
        "    date_obj = datetime.strptime(obj, '%Y-%m-%d')\n",
        "    fmt_date = fr\"{str(date_obj.day)}.*{date_obj.strftime('%B').lower()}.*{str(date_obj.year)}\"\n",
        "    fmt_date_2 = fr\"{date_obj.strftime('%B').lower()}.*{str(date_obj.day)}.*{str(date_obj.year)}\"\n",
        "    if re.search(fmt_date, evid):\n",
        "      evid = re.sub(fmt_date, obj.split(\"-\")[0], evid)\n",
        "      subj_new.append(subj)\n",
        "      obj_new.append(obj.split(\"-\")[0])\n",
        "      evidence_new.append(evid)\n",
        "    elif re.search(fmt_date_2, evid):\n",
        "      evid = re.sub(fmt_date_2, obj.split(\"-\")[0], evid)\n",
        "      subj_new.append(subj)\n",
        "      obj_new.append(obj.split(\"-\")[0])\n",
        "      evidence_new.append(evid)\n",
        "  else:\n",
        "    subj_new.append(subj)\n",
        "    obj_new.append(obj)\n",
        "    evidence_new.append(evid)\n",
        "\n",
        "pred_new = ['/people/person/date_of_birth'] * len(subj_new)\n",
        "df = pd.DataFrame(list(zip(pred_new, subj_new, obj_new, evidence_new)), columns=df.columns.to_list())\n",
        "dataset = Dataset.from_pandas(df)"
      ],
      "metadata": {
        "id": "faBTBYncU4oD",
        "colab": {
          "base_uri": "https://localhost:8080/"
        },
        "outputId": "b5e11574-03ee-4338-bac5-dddac2ec3fcc"
      },
      "execution_count": null,
      "outputs": [
        {
          "output_type": "stream",
          "name": "stderr",
          "text": [
            "<ipython-input-5-4fd7e33f1d53>:5: SettingWithCopyWarning: \n",
            "A value is trying to be set on a copy of a slice from a DataFrame\n",
            "\n",
            "See the caveats in the documentation: https://pandas.pydata.org/pandas-docs/stable/user_guide/indexing.html#returning-a-view-versus-a-copy\n",
            "  df.evidences[i] = df.evidences[i][0].get('snippet')\n"
          ]
        }
      ]
    },
    {
      "cell_type": "code",
      "source": [
        "df_2 = pd.read_json('/content/pob_augment-200526.json')\n",
        "df_2 = df_2.where(df_2['maj_vote']=='yes')\n",
        "df_2 = df_2.dropna(axis=0, how='all').reset_index()\n",
        "for i in range(len(df_2.evidences)):\n",
        "  df_2.evidences[i] = df_2.evidences[i][0].get('snippet')\n",
        "df_2 = df_2[['pred', 'sub', 'obj', 'evidences']]\n",
        "subj_new = []\n",
        "obj_new = []\n",
        "evidence_new = []\n",
        "for subj, evid, obj in zip(df_2['sub'], df_2['evidences'], df_2['obj']):\n",
        "  if obj in evid and len(tokenizer(evid)['input_ids']) < 100 and obj in vocab:\n",
        "    subj_new.append(subj)\n",
        "    obj_new.append(obj)\n",
        "    evidence_new.append(evid)\n",
        "pred_new = ['/people/person/place_of_birth'] * len(subj_new)\n",
        "df_2 = pd.DataFrame(list(zip(pred_new, subj_new, obj_new, evidence_new)), columns=df_2.columns.to_list())\n",
        "df_2 = df_2.rename(columns={\"sub\": \"subj\"}, errors=\"raise\")\n",
        "df_2 = df_2.apply(lambda x: x.astype(str).str.lower())\n",
        "df_2.obj = df_2.obj.apply(lambda x: unidecode.unidecode(x))\n",
        "subj_new = []\n",
        "obj_new = []\n",
        "evidence_new = []\n",
        "for subj,obj,evid in zip(df_2.subj,df_2.obj, df_2.evidences):\n",
        "  if obj in evid:\n",
        "    subj_new.append(subj)\n",
        "    obj_new.append(obj)\n",
        "    evidence_new.append(evid)\n",
        "\n",
        "pred_new = ['/people/person/place_of_birth'] * len(subj_new)\n",
        "df_2 = pd.DataFrame(list(zip(pred_new, subj_new, obj_new, evidence_new)), columns=df_2.columns.to_list())\n",
        "dataset_2 = Dataset.from_pandas(df_2)"
      ],
      "metadata": {
        "id": "zab19gWDU6TP",
        "colab": {
          "base_uri": "https://localhost:8080/"
        },
        "outputId": "f0f255d8-99de-4cdd-b2ec-3269c041c3a1"
      },
      "execution_count": null,
      "outputs": [
        {
          "output_type": "stream",
          "name": "stderr",
          "text": [
            "<ipython-input-6-be5cee283402>:5: SettingWithCopyWarning: \n",
            "A value is trying to be set on a copy of a slice from a DataFrame\n",
            "\n",
            "See the caveats in the documentation: https://pandas.pydata.org/pandas-docs/stable/user_guide/indexing.html#returning-a-view-versus-a-copy\n",
            "  df_2.evidences[i] = df_2.evidences[i][0].get('snippet')\n",
            "Token indices sequence length is longer than the specified maximum sequence length for this model (560 > 512). Running this sequence through the model will result in indexing errors\n"
          ]
        }
      ]
    },
    {
      "cell_type": "code",
      "source": [
        "df_conc = pd.concat([df,df_2], ignore_index=True)"
      ],
      "metadata": {
        "id": "3ALpxFSMU8N7"
      },
      "execution_count": null,
      "outputs": []
    },
    {
      "cell_type": "code",
      "source": [
        "dataset = Dataset.from_pandas(df_conc)"
      ],
      "metadata": {
        "id": "a6xsiAFxU96P"
      },
      "execution_count": null,
      "outputs": []
    },
    {
      "cell_type": "code",
      "source": [
        "from transformers import pipeline\n",
        "\n",
        "mask_filler = pipeline(\n",
        "    \"fill-mask\", model=model, tokenizer=tokenizer\n",
        ")"
      ],
      "metadata": {
        "id": "Nker1t9MVD9g"
      },
      "execution_count": null,
      "outputs": []
    },
    {
      "cell_type": "markdown",
      "source": [
        "### ***Non-optimal queries for date of birth***\n",
        "\n",
        "\n",
        "*   born [MASK]\n",
        "*   born c. [MASK]\n",
        "*   born ca. [MASK]\n",
        "*   (born c. [MASK])\n",
        "*   (born ca. [MASK])\n",
        "*   born in year [MASK]\n",
        "\n"
      ],
      "metadata": {
        "id": "v0u4P6X0PYqH"
      }
    },
    {
      "cell_type": "code",
      "source": [
        "count_pred_dob = 0\n",
        "for (sub, pred) in zip(df['subj'], df['pred']):\n",
        "  if pred == '/people/person/date_of_birth':\n",
        "    text = sub + \" born [MASK].\"\n",
        "  else:\n",
        "    print(f'{pred} is not a canonical case')\n",
        "    break\n",
        "  preds = mask_filler(text)\n",
        "  if df[(df['subj']== sub)].obj.values[0] == preds[0]['token_str']:\n",
        "    count_pred_dob += 1\n",
        "print(f'count: {count_pred_dob}, total cases number: {len(df)}, precision: {count_pred_dob/len(df)}')"
      ],
      "metadata": {
        "colab": {
          "base_uri": "https://localhost:8080/"
        },
        "id": "OOQ3XJFxnPsV",
        "outputId": "cc09740c-e5c3-434c-f7d2-0c29d87053b1"
      },
      "execution_count": null,
      "outputs": [
        {
          "output_type": "stream",
          "name": "stdout",
          "text": [
            "count: 0, total cases number: 2034, precision: 0.0\n"
          ]
        }
      ]
    },
    {
      "cell_type": "code",
      "source": [
        "count_pred_dob = 0\n",
        "for (sub, pred) in zip(df['subj'], df['pred']):\n",
        "  if pred == '/people/person/date_of_birth':\n",
        "    text = sub + \" born c. [MASK].\"\n",
        "  else:\n",
        "    print(f'{pred} is not a canonical case')\n",
        "    break\n",
        "  preds = mask_filler(text)\n",
        "  num_tok = [preds[i]['token_str'] for i in range(len(preds)) if preds[i]['token_str'].isnumeric()]\n",
        "  if len(num_tok) != 0:\n",
        "    if df[(df['subj']== sub)].obj.values[0] == num_tok[0]:\n",
        "      count_pred_dob += 1\n",
        "print(f'count: {count_pred_dob}, total cases number: {len(df)}, precision: {count_pred_dob/len(df)}')"
      ],
      "metadata": {
        "id": "7EjcNuZMad_K",
        "colab": {
          "base_uri": "https://localhost:8080/"
        },
        "outputId": "fa0dbf6d-85d8-4b77-d098-a21dba39ee8d"
      },
      "execution_count": null,
      "outputs": [
        {
          "output_type": "stream",
          "name": "stdout",
          "text": [
            "count: 5, total cases number: 2034, precision: 0.0024582104228121925\n"
          ]
        }
      ]
    },
    {
      "cell_type": "code",
      "source": [
        "count_pred_dob = 0\n",
        "for (sub, pred) in zip(df['subj'], df['pred']):\n",
        "  if pred == '/people/person/date_of_birth':\n",
        "    text = sub + \" born ca. [MASK].\"\n",
        "  else:\n",
        "    print(f'{pred} is not a canonical case')\n",
        "    break\n",
        "  preds = mask_filler(text)\n",
        "  num_tok = [preds[i]['token_str'] for i in range(len(preds)) if preds[i]['token_str'].isnumeric()]\n",
        "  if len(num_tok) != 0:\n",
        "    if df[(df['subj']== sub)].obj.values[0] == num_tok[0]:\n",
        "      count_pred_dob += 1\n",
        "print(f'count: {count_pred_dob}, total cases number: {len(df)}, precision: {count_pred_dob/len(df)}')"
      ],
      "metadata": {
        "colab": {
          "base_uri": "https://localhost:8080/"
        },
        "id": "-SnviDSJsIDy",
        "outputId": "014a8c78-1442-4322-f0ea-7b0c8f9f8a86"
      },
      "execution_count": null,
      "outputs": [
        {
          "output_type": "stream",
          "name": "stdout",
          "text": [
            "count: 0, total cases number: 2034, precision: 0.0\n"
          ]
        }
      ]
    },
    {
      "cell_type": "code",
      "source": [
        "count_pred_dob = 0\n",
        "for (sub, pred) in zip(df['subj'], df['pred']):\n",
        "  if pred == '/people/person/date_of_birth':\n",
        "    text = sub + \" (born c. [MASK]).\"\n",
        "  else:\n",
        "    print(f'{pred} is not a canonical case')\n",
        "    break\n",
        "  preds = mask_filler(text)\n",
        "  num_tok = [preds[i]['token_str'] for i in range(len(preds)) if preds[i]['token_str'].isnumeric()]\n",
        "  if len(num_tok) != 0:\n",
        "    if df[(df['subj']== sub)].obj.values[0] == num_tok[0]:\n",
        "      count_pred_dob += 1\n",
        "print(f'count: {count_pred_dob}, total cases number: {len(df)}, precision: {count_pred_dob/len(df)}')"
      ],
      "metadata": {
        "colab": {
          "base_uri": "https://localhost:8080/"
        },
        "id": "BLzXm4GAcvOO",
        "outputId": "6d12708d-98b7-4cc8-b98d-5f7021f84ed9"
      },
      "execution_count": null,
      "outputs": [
        {
          "output_type": "stream",
          "name": "stdout",
          "text": [
            "count: 22, total cases number: 2034, precision: 0.010816125860373648\n"
          ]
        }
      ]
    },
    {
      "cell_type": "code",
      "source": [
        "count_pred_dob = 0\n",
        "for (sub, pred) in zip(df['subj'], df['pred']):\n",
        "  if pred == '/people/person/date_of_birth':\n",
        "    text = sub + \" (born ca. [MASK]).\"\n",
        "  else:\n",
        "    print(f'{pred} is not a canonical case')\n",
        "    break\n",
        "  preds = mask_filler(text)\n",
        "  num_tok = [preds[i]['token_str'] for i in range(len(preds)) if preds[i]['token_str'].isnumeric()]\n",
        "  if len(num_tok) != 0:\n",
        "    if df[(df['subj']== sub)].obj.values[0] == num_tok[0]:\n",
        "      count_pred_dob += 1\n",
        "print(f'count: {count_pred_dob}, total cases number: {len(df)}, precision: {count_pred_dob/len(df)}')"
      ],
      "metadata": {
        "colab": {
          "base_uri": "https://localhost:8080/"
        },
        "id": "7qnr1tjW24CI",
        "outputId": "6bf3c2fc-ff79-46b0-d0d3-a0afd6b6fce4"
      },
      "execution_count": null,
      "outputs": [
        {
          "output_type": "stream",
          "name": "stdout",
          "text": [
            "count: 24, total cases number: 2034, precision: 0.011799410029498525\n"
          ]
        }
      ]
    },
    {
      "cell_type": "code",
      "source": [
        "count_pred_dob = 0\n",
        "for (sub, pred) in zip(df['subj'], df['pred']):\n",
        "  if pred == '/people/person/date_of_birth':\n",
        "    text = sub + \" born in year [MASK].\"\n",
        "  else:\n",
        "    print(f'{pred} is not a canonical case')\n",
        "    break\n",
        "  preds = mask_filler(text)\n",
        "  num_tok = [preds[i]['token_str'] for i in range(len(preds)) if preds[i]['token_str'].isnumeric()]\n",
        "  if len(num_tok) != 0:\n",
        "    if df[(df['subj']== sub)].obj.values[0] == num_tok[0]:\n",
        "      count_pred_dob += 1\n",
        "print(f'count: {count_pred_dob}, total cases number: {len(df)}, precision: {count_pred_dob/len(df)}')"
      ],
      "metadata": {
        "colab": {
          "base_uri": "https://localhost:8080/"
        },
        "id": "vOL-pqyugome",
        "outputId": "37b094d2-ea00-455b-935e-96461c30c0f2"
      },
      "execution_count": null,
      "outputs": [
        {
          "output_type": "stream",
          "name": "stdout",
          "text": [
            "count: 0, total cases number: 2034, precision: 0.0\n"
          ]
        }
      ]
    },
    {
      "cell_type": "markdown",
      "source": [
        "### ***Optimal query***"
      ],
      "metadata": {
        "id": "JdeyiwWtPJkT"
      }
    },
    {
      "cell_type": "code",
      "source": [
        "count_pred_dob = 0\n",
        "for (sub, pred) in zip(df['subj'], df['pred']):\n",
        "  if pred == '/people/person/date_of_birth':\n",
        "    text = sub + \" (born [MASK]).\"\n",
        "  else:\n",
        "    print(f'{pred} is not a canonical case')\n",
        "    break\n",
        "  preds = mask_filler(text)\n",
        "  num_tok = [preds[i]['token_str'] for i in range(len(preds)) if preds[i]['token_str'].isnumeric()]\n",
        "  if len(num_tok) != 0:\n",
        "    if df[(df['subj']== sub)].obj.values[0] == num_tok[0]:\n",
        "      count_pred_dob += 1\n",
        "print(f'count: {count_pred_dob}, total cases number: {len(df)}, precision: {count_pred_dob/len(df)}')"
      ],
      "metadata": {
        "colab": {
          "base_uri": "https://localhost:8080/"
        },
        "id": "LgV6IryfSgQP",
        "outputId": "88a6b528-0032-40da-99e4-bb71fc3ed7f8"
      },
      "execution_count": null,
      "outputs": [
        {
          "output_type": "stream",
          "name": "stdout",
          "text": [
            "count: 38, total cases number: 2034, precision: 0.018682399213372666\n"
          ]
        }
      ]
    },
    {
      "cell_type": "markdown",
      "source": [
        "### ***Adding context***"
      ],
      "metadata": {
        "id": "a1ywGvAKPfkN"
      }
    },
    {
      "cell_type": "code",
      "source": [
        "count_pred_dob = 0\n",
        "for (sub, pred) in zip(df['subj'], df['pred']):\n",
        "  if pred == '/people/person/date_of_birth':\n",
        "    text = \"steve jobs (born 1955). \" + sub + \" (born [MASK]).\"\n",
        "  else:\n",
        "    print(f'{pred} is not a canonical case')\n",
        "    break\n",
        "  preds = mask_filler(text)\n",
        "  num_tok = [preds[i]['token_str'] for i in range(len(preds)) if preds[i]['token_str'].isnumeric()]\n",
        "  if len(num_tok) != 0:\n",
        "    if df[(df['subj']== sub)].obj.values[0] == num_tok[0]:\n",
        "      count_pred_dob += 1\n",
        "print(f'count: {count_pred_dob}, total cases number: {len(df)}, precision: {count_pred_dob/len(df)}')"
      ],
      "metadata": {
        "colab": {
          "base_uri": "https://localhost:8080/"
        },
        "outputId": "12a23596-fa29-4f7e-ff2f-494a65ede37d",
        "id": "ft5NFSubN3rN"
      },
      "execution_count": null,
      "outputs": [
        {
          "output_type": "stream",
          "name": "stdout",
          "text": [
            "count: 25, total cases number: 2034, precision: 0.012291052114060964\n"
          ]
        }
      ]
    },
    {
      "cell_type": "code",
      "source": [
        "count_pred_dob = 0\n",
        "for (sub, pred) in zip(df['subj'], df['pred']):\n",
        "  if pred == '/people/person/date_of_birth':\n",
        "    text = \"albert einstein (born 1879). steve jobs (born 1955). \" + sub + \" (born [MASK]).\"\n",
        "  else:\n",
        "    print(f'{pred} is not a canonical case')\n",
        "    break\n",
        "  preds = mask_filler(text)\n",
        "  num_tok = [preds[i]['token_str'] for i in range(len(preds)) if preds[i]['token_str'].isnumeric()]\n",
        "  if len(num_tok) != 0:\n",
        "    if df[(df['subj']== sub)].obj.values[0] == num_tok[0]:\n",
        "      count_pred_dob += 1\n",
        "print(f'count: {count_pred_dob}, total cases number: {len(df)}, precision: {count_pred_dob/len(df)}')"
      ],
      "metadata": {
        "colab": {
          "base_uri": "https://localhost:8080/"
        },
        "id": "fImDCzp2ZVyB",
        "outputId": "1a487858-34f7-4ea3-cd98-bf8510715627"
      },
      "execution_count": null,
      "outputs": [
        {
          "output_type": "stream",
          "name": "stdout",
          "text": [
            "count: 24, total cases number: 2034, precision: 0.011799410029498525\n"
          ]
        }
      ]
    },
    {
      "cell_type": "code",
      "source": [
        "count_pred_dob = 0\n",
        "for (sub, pred) in zip(df['subj'], df['pred']):\n",
        "  if pred == '/people/person/date_of_birth':\n",
        "    text = \"friedrich hegel (born 1770). albert einstein (born 1879). steve jobs (born 1955). \" + sub + \" (born [MASK]).\"\n",
        "  else:\n",
        "    print(f'{pred} is not a canonical case')\n",
        "    break\n",
        "  preds = mask_filler(text)\n",
        "  num_tok = [preds[i]['token_str'] for i in range(len(preds)) if preds[i]['token_str'].isnumeric()]\n",
        "  if len(num_tok) != 0:\n",
        "    if df[(df['subj']== sub)].obj.values[0] == num_tok[0]:\n",
        "      count_pred_dob += 1\n",
        "print(f'count: {count_pred_dob}, total cases number: {len(df)}, precision: {count_pred_dob/len(df)}')"
      ],
      "metadata": {
        "colab": {
          "base_uri": "https://localhost:8080/"
        },
        "id": "j8D9HOB4ZdXu",
        "outputId": "cd37435b-f838-491e-8507-4820ad43b3ca"
      },
      "execution_count": null,
      "outputs": [
        {
          "output_type": "stream",
          "name": "stdout",
          "text": [
            "count: 23, total cases number: 2034, precision: 0.011307767944936086\n"
          ]
        }
      ]
    },
    {
      "cell_type": "markdown",
      "source": [
        "### ***Place of birth***"
      ],
      "metadata": {
        "id": "TWGYi_Y5N7wI"
      }
    },
    {
      "cell_type": "code",
      "source": [
        "count_pred_pob = 0\n",
        "for (sub, pred) in zip(df_2['subj'], df_2['pred']):\n",
        "  if pred == '/people/person/place_of_birth':\n",
        "    text = sub + \" was born in [MASK].\"\n",
        "  else:\n",
        "    print(f'{pred} is not a canonical case')\n",
        "    break\n",
        "  preds = mask_filler(text)\n",
        "  if df_2[(df_2['subj']== sub)].obj.values[0] == preds[0]['token_str']:\n",
        "    count_pred_pob += 1\n",
        "print(f'count: {count_pred_pob}, total cases number: {len(df_2)}, precision: {count_pred_pob/len(df_2)}')"
      ],
      "metadata": {
        "colab": {
          "base_uri": "https://localhost:8080/"
        },
        "id": "2wTGfYv8sI9n",
        "outputId": "4d098d7b-1cf5-4344-a0e8-011bbc8306b3"
      },
      "execution_count": null,
      "outputs": [
        {
          "output_type": "stream",
          "name": "stdout",
          "text": [
            "count: 352, total cases number: 3418, precision: 0.10298420128730251\n"
          ]
        }
      ]
    },
    {
      "cell_type": "markdown",
      "source": [
        "### ***Adding context***"
      ],
      "metadata": {
        "id": "9KeobsLAPSNq"
      }
    },
    {
      "cell_type": "code",
      "source": [
        "count_pred_pob = 0\n",
        "for (sub, pred) in zip(df_2['subj'], df_2['pred']):\n",
        "  if pred == '/people/person/place_of_birth':\n",
        "    text = \"friedrich hegel was born in stuttgart. bill gates was born in seattle. \" + sub + \" was born in [MASK].\"\n",
        "  else:\n",
        "    print(f'{pred} is not a canonical case')\n",
        "    break\n",
        "  preds = mask_filler(text)\n",
        "  if df_2[(df_2['subj']== sub)].obj.values[0] == preds[0]['token_str']:\n",
        "    count_pred_pob += 1\n",
        "print(f'count: {count_pred_pob}, total cases number: {len(df_2)}, precision: {count_pred_pob/len(df_2)}')"
      ],
      "metadata": {
        "colab": {
          "base_uri": "https://localhost:8080/"
        },
        "id": "Rh52Wqmur-sf",
        "outputId": "0d19820d-8d1f-4909-ae26-c73e7e0716bb"
      },
      "execution_count": null,
      "outputs": [
        {
          "output_type": "stream",
          "name": "stdout",
          "text": [
            "count: 194, total cases number: 3418, precision: 0.05675833820947923\n"
          ]
        }
      ]
    },
    {
      "cell_type": "code",
      "source": [
        "count_pred_pob = 0\n",
        "for (sub, pred) in zip(df_2['subj'], df_2['pred']):\n",
        "  if pred == '/people/person/place_of_birth':\n",
        "    text = \"luciano pavarotti was born in modena. friedrich hegel was born in stuttgart. bill gates was born in seattle. \" + sub + \" was born in [MASK].\"\n",
        "  else:\n",
        "    print(f'{pred} is not a canonical case')\n",
        "    break\n",
        "  preds = mask_filler(text)\n",
        "  if df_2[(df_2['subj']== sub)].obj.values[0] == preds[0]['token_str']:\n",
        "    count_pred_pob += 1\n",
        "print(f'count: {count_pred_pob}, total cases number: {len(df_2)}, precision: {count_pred_pob/len(df_2)}')"
      ],
      "metadata": {
        "colab": {
          "base_uri": "https://localhost:8080/"
        },
        "id": "TieQoQUOb8Q-",
        "outputId": "110a31cf-f806-4378-cac1-cdd33e4e3757"
      },
      "execution_count": null,
      "outputs": [
        {
          "output_type": "stream",
          "name": "stdout",
          "text": [
            "count: 265, total cases number: 3418, precision: 0.077530719719134\n"
          ]
        }
      ]
    },
    {
      "cell_type": "markdown",
      "source": [
        "### ***P@k for non-optimal and optimal queries for both DOB and POB***"
      ],
      "metadata": {
        "id": "D3b9GXjjPmO3"
      }
    },
    {
      "cell_type": "code",
      "source": [
        "k= 5\n",
        "for test_k in range(k):\n",
        "  count_pred_dob = 0\n",
        "  for (sub, pred) in zip(df['subj'], df['pred']):\n",
        "    if pred == '/people/person/date_of_birth':\n",
        "      text = sub + \" born c. [MASK].\"\n",
        "    else:\n",
        "      print(f'{pred} is not a canonical case')\n",
        "      break\n",
        "    preds = mask_filler(text)\n",
        "    num_tok = [preds[i]['token_str'] for i in range(len(preds)) if preds[i]['token_str'].isnumeric()]\n",
        "    if len(num_tok) != 0:\n",
        "      preds_arr = []\n",
        "      if len(num_tok) > test_k+1:\n",
        "        preds_arr = num_tok[:test_k+1]\n",
        "      if len(num_tok) <= test_k+1:\n",
        "        preds_arr = num_tok\n",
        "      if df[(df['subj']== sub)].obj.values[0] in preds_arr:\n",
        "        count_pred_dob += 1\n",
        "  print(f'count: {count_pred_dob}, total cases number: {len(df)}, precision: {count_pred_dob/len(df)}')"
      ],
      "metadata": {
        "id": "XQ9Y1zaZ51bx",
        "colab": {
          "base_uri": "https://localhost:8080/"
        },
        "outputId": "6e75f842-d86f-410f-80b3-2923f243ff41"
      },
      "execution_count": null,
      "outputs": [
        {
          "output_type": "stream",
          "name": "stdout",
          "text": [
            "count: 5, total cases number: 2464, precision: 0.002029220779220779\n",
            "count: 9, total cases number: 2464, precision: 0.0036525974025974025\n",
            "count: 14, total cases number: 2464, precision: 0.005681818181818182\n",
            "count: 17, total cases number: 2464, precision: 0.006899350649350649\n",
            "count: 17, total cases number: 2464, precision: 0.006899350649350649\n"
          ]
        }
      ]
    },
    {
      "cell_type": "code",
      "source": [
        "k= 5\n",
        "for test_k in range(k):\n",
        "  count_pred_dob = 0\n",
        "  for (sub, pred) in zip(df['subj'], df['pred']):\n",
        "    if pred == '/people/person/date_of_birth':\n",
        "      text = sub + \" (born [MASK]).\"\n",
        "    else:\n",
        "      print(f'{pred} is not a canonical case')\n",
        "      break\n",
        "    preds = mask_filler(text)\n",
        "    num_tok = [preds[i]['token_str'] for i in range(len(preds)) if preds[i]['token_str'].isnumeric()]\n",
        "    if len(num_tok) != 0:\n",
        "      preds_arr = []\n",
        "      if len(num_tok) > test_k+1:\n",
        "        preds_arr = num_tok[:test_k+1]\n",
        "      if len(num_tok) <= test_k+1:\n",
        "        preds_arr = num_tok\n",
        "      if df[(df['subj']== sub)].obj.values[0] in preds_arr:\n",
        "        count_pred_dob += 1\n",
        "  print(f'count: {count_pred_dob}, total cases number: {len(df)}, precision: {count_pred_dob/len(df)}')"
      ],
      "metadata": {
        "colab": {
          "base_uri": "https://localhost:8080/"
        },
        "id": "K9AnlJUYE7o2",
        "outputId": "95e79934-8456-4d2e-b980-242b0ff1ad9c"
      },
      "execution_count": null,
      "outputs": [
        {
          "output_type": "stream",
          "name": "stdout",
          "text": [
            "count: 38, total cases number: 2034, precision: 0.018682399213372666\n",
            "count: 63, total cases number: 2034, precision: 0.030973451327433628\n",
            "count: 82, total cases number: 2034, precision: 0.04031465093411996\n",
            "count: 104, total cases number: 2034, precision: 0.051130776794493606\n",
            "count: 134, total cases number: 2034, precision: 0.06588003933136677\n"
          ]
        }
      ]
    },
    {
      "cell_type": "code",
      "source": [
        "k = 5\n",
        "for test_k in range(k):\n",
        "  count_pred_pob = 0\n",
        "  for (sub, pred) in zip(df_2['subj'], df_2['pred']):\n",
        "    if pred == '/people/person/place_of_birth':\n",
        "      text = sub + \" was born in [MASK].\"\n",
        "    else:\n",
        "      print(f'{pred} is not a canonical case')\n",
        "      break\n",
        "    preds = mask_filler(text)\n",
        "    if df_2[(df_2['subj']== sub)].obj.values[0] in [preds[selected_k]['token_str'] for selected_k in range(test_k+1)]:\n",
        "      count_pred_pob += 1\n",
        "  print(f'k: {test_k+1}, count: {count_pred_pob}, total cases number: {len(df_2)}, precision: {count_pred_pob/len(df_2)}')"
      ],
      "metadata": {
        "colab": {
          "base_uri": "https://localhost:8080/"
        },
        "id": "2xJTvICF515e",
        "outputId": "d29c2dbe-8a06-45b7-d58a-3c24028e6cbd"
      },
      "execution_count": null,
      "outputs": [
        {
          "output_type": "stream",
          "name": "stdout",
          "text": [
            "k: 1, count: 352, total cases number: 3418, precision: 0.10298420128730251\n",
            "k: 2, count: 480, total cases number: 3418, precision: 0.1404330017554125\n",
            "k: 3, count: 568, total cases number: 3418, precision: 0.16617905207723815\n",
            "k: 4, count: 651, total cases number: 3418, precision: 0.19046225863077823\n",
            "k: 5, count: 716, total cases number: 3418, precision: 0.20947922761849033\n"
          ]
        }
      ]
    },
    {
      "cell_type": "markdown",
      "source": [
        "### ***Place of death***"
      ],
      "metadata": {
        "id": "GWjt_iaBQEyq"
      }
    },
    {
      "cell_type": "code",
      "source": [
        "df_3 = pd.read_json('/content/pod_augment-200526.json')\n",
        "df_3 = df_3.where(df_3['maj_vote']=='yes')\n",
        "df_3 = df_3.dropna(axis=0, how='all').reset_index()\n",
        "for i in range(len(df_3.evidences)):\n",
        "  df_3.evidences[i] = df_3.evidences[i][0].get('snippet')\n",
        "df_3 = df_3[['pred', 'sub', 'obj', 'evidences']]\n",
        "subj_new = []\n",
        "obj_new = []\n",
        "evidence_new = []\n",
        "for subj, evid, obj in zip(df_3['sub'], df_3['evidences'], df_3['obj']):\n",
        "  if obj in evid and len(tokenizer(evid)['input_ids']) < 100 and obj in vocab:\n",
        "    subj_new.append(subj)\n",
        "    obj_new.append(obj)\n",
        "    evidence_new.append(evid)\n",
        "pred_new = ['/people/person/place_of_death'] * len(subj_new)\n",
        "df_3 = pd.DataFrame(list(zip(pred_new, subj_new, obj_new, evidence_new)), columns=df_3.columns.to_list())\n",
        "df_3 = df_3.rename(columns={\"sub\": \"subj\"}, errors=\"raise\")\n",
        "df_3 = df_3.apply(lambda x: x.astype(str).str.lower())\n",
        "df_3.obj = df_3.obj.apply(lambda x: unidecode.unidecode(x))\n",
        "subj_new = []\n",
        "obj_new = []\n",
        "evidence_new = []\n",
        "for subj,obj,evid in zip(df_3.subj,df_3.obj, df_3.evidences):\n",
        "  if obj in evid:\n",
        "    subj_new.append(subj)\n",
        "    obj_new.append(obj)\n",
        "    evidence_new.append(evid)\n",
        "\n",
        "pred_new = ['/people/person/place_of_death'] * len(subj_new)\n",
        "df_3 = pd.DataFrame(list(zip(pred_new, subj_new, obj_new, evidence_new)), columns=df_3.columns.to_list())\n",
        "dataset_3 = Dataset.from_pandas(df_3)"
      ],
      "metadata": {
        "id": "3gXCzDmrnIIM",
        "colab": {
          "base_uri": "https://localhost:8080/"
        },
        "outputId": "1fd31dc8-db53-44d3-ff35-cfbdc708174b"
      },
      "execution_count": null,
      "outputs": [
        {
          "output_type": "stream",
          "name": "stderr",
          "text": [
            "<ipython-input-13-7b3f54ca341c>:5: SettingWithCopyWarning: \n",
            "A value is trying to be set on a copy of a slice from a DataFrame\n",
            "\n",
            "See the caveats in the documentation: https://pandas.pydata.org/pandas-docs/stable/user_guide/indexing.html#returning-a-view-versus-a-copy\n",
            "  df_3.evidences[i] = df_3.evidences[i][0].get('snippet')\n"
          ]
        }
      ]
    },
    {
      "cell_type": "code",
      "source": [
        "count_pred_pod = 0\n",
        "for (sub, pred) in zip(df_3['subj'], df_3['pred']):\n",
        "  if pred == '/people/person/place_of_death':\n",
        "    text = sub + \" died in [MASK].\"\n",
        "  else:\n",
        "    print(f'{pred} is not a canonical case')\n",
        "    break\n",
        "  preds = mask_filler(text)\n",
        "  if df_3[(df_3['subj']== sub)].obj.values[0] == preds[0]['token_str']:\n",
        "    count_pred_pod += 1\n",
        "print(f'count: {count_pred_pod}, total cases number: {len(df_3)}, precision: {count_pred_pod/len(df_3)}')"
      ],
      "metadata": {
        "colab": {
          "base_uri": "https://localhost:8080/"
        },
        "id": "ZA0f2uYyhE9h",
        "outputId": "71b143ad-daad-42c4-ba48-d9483b4c4a55"
      },
      "execution_count": null,
      "outputs": [
        {
          "output_type": "stream",
          "name": "stdout",
          "text": [
            "count: 81, total cases number: 1188, precision: 0.06818181818181818\n"
          ]
        }
      ]
    },
    {
      "cell_type": "markdown",
      "source": [
        "### ***Adding context***"
      ],
      "metadata": {
        "id": "v5kdWZayQPa6"
      }
    },
    {
      "cell_type": "code",
      "source": [
        "count_pred_pod = 0\n",
        "for (sub, pred) in zip(df_3['subj'], df_3['pred']):\n",
        "  if pred == '/people/person/place_of_death':\n",
        "    text = \"louis armstrong died in new york. \" + sub + \" died in [MASK].\"\n",
        "  else:\n",
        "    print(f'{pred} is not a canonical case')\n",
        "    break\n",
        "  preds = mask_filler(text)\n",
        "  if df_3[(df_3['subj']== sub)].obj.values[0] == preds[0]['token_str']:\n",
        "    count_pred_pod += 1\n",
        "print(f'count: {count_pred_pod}, total cases number: {len(df_3)}, precision: {count_pred_pod/len(df_3)}')"
      ],
      "metadata": {
        "colab": {
          "base_uri": "https://localhost:8080/"
        },
        "id": "xl-Jueimkyvn",
        "outputId": "c21393c6-2842-406a-93f3-6524e781f5ae"
      },
      "execution_count": null,
      "outputs": [
        {
          "output_type": "stream",
          "name": "stdout",
          "text": [
            "count: 67, total cases number: 1188, precision: 0.0563973063973064\n"
          ]
        }
      ]
    },
    {
      "cell_type": "code",
      "source": [
        "count_pred_pod = 0\n",
        "for (sub, pred) in zip(df_3['subj'], df_3['pred']):\n",
        "  if pred == '/people/person/place_of_death':\n",
        "    text = \"albert einstein died in princeton. louis armstrong died in new york. \" + sub + \" died in [MASK].\"\n",
        "  else:\n",
        "    print(f'{pred} is not a canonical case')\n",
        "    break\n",
        "  preds = mask_filler(text)\n",
        "  if df_3[(df_3['subj']== sub)].obj.values[0] == preds[0]['token_str']:\n",
        "    count_pred_pod += 1\n",
        "print(f'count: {count_pred_pod}, total cases number: {len(df_3)}, precision: {count_pred_pod/len(df_3)}')"
      ],
      "metadata": {
        "colab": {
          "base_uri": "https://localhost:8080/"
        },
        "id": "0Kbwo98hd5ku",
        "outputId": "9a4e61de-bae4-4674-8e1c-fd730d9d0238"
      },
      "execution_count": null,
      "outputs": [
        {
          "output_type": "stream",
          "name": "stdout",
          "text": [
            "count: 52, total cases number: 1188, precision: 0.04377104377104377\n"
          ]
        }
      ]
    },
    {
      "cell_type": "code",
      "source": [
        "count_pred_pod = 0\n",
        "for (sub, pred) in zip(df_3['subj'], df_3['pred']):\n",
        "  if pred == '/people/person/place_of_death':\n",
        "    text = \"luciano pavarotti died in modena. albert einstein died in princeton. louis armstrong died in new york. \" + sub + \" died in [MASK].\"\n",
        "  else:\n",
        "    print(f'{pred} is not a canonical case')\n",
        "    break\n",
        "  preds = mask_filler(text)\n",
        "  if df_3[(df_3['subj']== sub)].obj.values[0] == preds[0]['token_str']:\n",
        "    count_pred_pod += 1\n",
        "print(f'count: {count_pred_pod}, total cases number: {len(df_3)}, precision: {count_pred_pod/len(df_3)}')"
      ],
      "metadata": {
        "colab": {
          "base_uri": "https://localhost:8080/"
        },
        "id": "c5KJwY8BhZy_",
        "outputId": "f37ee627-87db-4f56-ebf6-fa2821cbe364"
      },
      "execution_count": null,
      "outputs": [
        {
          "output_type": "stream",
          "name": "stdout",
          "text": [
            "count: 93, total cases number: 1188, precision: 0.07828282828282829\n"
          ]
        }
      ]
    }
  ]
}